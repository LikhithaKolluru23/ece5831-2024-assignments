{
 "cells": [
  {
   "cell_type": "markdown",
   "metadata": {},
   "source": [
    "### Importing the model and necessary packages"
   ]
  },
  {
   "cell_type": "code",
   "execution_count": 2,
   "metadata": {},
   "outputs": [],
   "source": [
    "from keras.models import load_model  # TensorFlow is required for Keras to work\n",
    "from PIL import Image, ImageOps  # Install pillow instead of PIL\n",
    "import numpy as np\n",
    "\n",
    "# Disable scientific notation for clarity\n",
    "np.set_printoptions(suppress=True)\n",
    "\n",
    "# Load the model\n",
    "model = load_model(\"model/keras_Model.h5\", compile=False)\n",
    "\n",
    "# Load the labels\n",
    "class_names = open(\"model/labels.txt\", \"r\").readlines()\n",
    "\n",
    "# Create the array of the right shape to feed into the keras model\n",
    "# The 'length' or number of images you can put into the array is\n",
    "# determined by the first position in the shape tuple, in this case 1\n",
    "data = np.ndarray(shape=(1, 224, 224, 3), dtype=np.float32)\n"
   ]
  },
  {
   "cell_type": "markdown",
   "metadata": {},
   "source": [
    "### Processing function "
   ]
  },
  {
   "cell_type": "code",
   "execution_count": 3,
   "metadata": {},
   "outputs": [],
   "source": [
    "def processing(image_path):\n",
    "    \"\"\"\n",
    "    Prepares an image for model prediction.\n",
    "\n",
    "    This function loads an image from the specified path, resizes it to \n",
    "    224x224 pixels, normalizes its pixel values, and converts it into \n",
    "    a numpy array suitable for input into a neural network.\n",
    "\n",
    "    Args:\n",
    "        image_path (str): The file path to the image to be processed.\n",
    "\n",
    "    Returns:\n",
    "        np.ndarray: A normalized numpy array representing the image, \n",
    "                    with shape (224, 224, 3).\n",
    "    \"\"\"\n",
    "    # Replace this with the path to your image\n",
    "    image = Image.open(image_path).convert(\"RGB\")\n",
    "\n",
    "    # resizing the image to be at least 224x224 and then cropping from the center\n",
    "    size = (224, 224)\n",
    "    image = ImageOps.fit(image, size, Image.Resampling.LANCZOS)\n",
    "\n",
    "    # turn the image into a numpy array\n",
    "    image_array = np.asarray(image)\n",
    "\n",
    "    # Normalize the image\n",
    "    normalized_image_array = (image_array.astype(np.float32) / 127.5) - 1\n",
    "\n",
    "    return normalized_image_array\n",
    "# Replace this with the path to your image\n",
    "\n"
   ]
  },
  {
   "cell_type": "markdown",
   "metadata": {},
   "source": [
    "### Prediction function"
   ]
  },
  {
   "cell_type": "code",
   "execution_count": 10,
   "metadata": {},
   "outputs": [],
   "source": [
    "\n",
    "def predict(image_path):\n",
    "    \"\"\"\n",
    "    Makes a prediction on the processed image using the trained model.\n",
    "\n",
    "    This function loads an image, processes it, and then uses the \n",
    "    loaded model to make a prediction. It prints the predicted class \n",
    "    and the associated confidence score.\n",
    "\n",
    "    Args:\n",
    "        image_path (str): The file path to the image to be predicted.\n",
    "        \n",
    "    Returns:\n",
    "        None: This function prints the predicted class and confidence score directly.\n",
    "    \"\"\"\n",
    "    # Load the image into the array\n",
    "    data[0] = processing(image_path)\n",
    "\n",
    "    # Predicts the model\n",
    "    prediction = model.predict(data)\n",
    "    index = np.argmax(prediction)\n",
    "    class_name = class_names[index]\n",
    "    confidence_score = prediction[0][index]\n",
    "\n",
    "    # Print prediction and confidence score\n",
    "    print(\"Class:\", class_name[2:], end=\"\")\n",
    "    print(\"Confidence Score:\", confidence_score)\n",
    "    "
   ]
  },
  {
   "cell_type": "markdown",
   "metadata": {},
   "source": [
    "### Testing the image"
   ]
  },
  {
   "cell_type": "code",
   "execution_count": 11,
   "metadata": {},
   "outputs": [
    {
     "name": "stdout",
     "output_type": "stream",
     "text": [
      "1/1 [==============================] - 0s 41ms/step\n",
      "Class: Paper\n",
      "Confidence Score: 0.99987483\n"
     ]
    }
   ],
   "source": [
    "predict(\"Samples/Paper/4.jpg\")"
   ]
  }
 ],
 "metadata": {
  "kernelspec": {
   "display_name": "ece5831-2024",
   "language": "python",
   "name": "python3"
  },
  "language_info": {
   "codemirror_mode": {
    "name": "ipython",
    "version": 3
   },
   "file_extension": ".py",
   "mimetype": "text/x-python",
   "name": "python",
   "nbconvert_exporter": "python",
   "pygments_lexer": "ipython3",
   "version": "3.9.12"
  }
 },
 "nbformat": 4,
 "nbformat_minor": 2
}
