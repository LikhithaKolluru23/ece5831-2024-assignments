{
 "cells": [
  {
   "cell_type": "markdown",
   "metadata": {},
   "source": [
    "### Implementation of classes, training steps, accuracy graph and trained model"
   ]
  },
  {
   "cell_type": "code",
   "execution_count": 98,
   "metadata": {},
   "outputs": [],
   "source": [
    "import numpy as np"
   ]
  },
  {
   "cell_type": "markdown",
   "metadata": {},
   "source": [
    "#### Implementation of Mean square error"
   ]
  },
  {
   "cell_type": "code",
   "execution_count": 99,
   "metadata": {},
   "outputs": [],
   "source": [
    "def mean_squared_error(y_hat, y): # y_hat is the predicted value, y is the actual value\n",
    "    \"\"\" Implementation of the mean squared error function \"\"\"\n",
    "    return np.sum((y_hat - y)**2)/y.size"
   ]
  },
  {
   "cell_type": "code",
   "execution_count": 100,
   "metadata": {},
   "outputs": [
    {
     "data": {
      "text/plain": [
       "0.025000000000000022"
      ]
     },
     "execution_count": 100,
     "metadata": {},
     "output_type": "execute_result"
    }
   ],
   "source": [
    "y      = np.array([1,   2,   3,    4])\n",
    "y_hat1 = np.array([1.2, 1.9, 2.9,  4.2]) \n",
    "mean_squared_error(y_hat1, y) # mean squared error for the given values"
   ]
  },
  {
   "cell_type": "code",
   "execution_count": 101,
   "metadata": {},
   "outputs": [
    {
     "data": {
      "text/plain": [
       "1.0250000000000004"
      ]
     },
     "execution_count": 101,
     "metadata": {},
     "output_type": "execute_result"
    }
   ],
   "source": [
    "y_hat2 = np.array([2.2, 0.9, 2.9,  5.2]) \n",
    "# mean squared error for the given values\n",
    "mean_squared_error(y_hat2, y)"
   ]
  },
  {
   "cell_type": "markdown",
   "metadata": {},
   "source": [
    "### Implementation of cross entropy error"
   ]
  },
  {
   "cell_type": "code",
   "execution_count": 102,
   "metadata": {},
   "outputs": [],
   "source": [
    "def cross_entropy_error(y_hat, y): # cross entropy error function\n",
    "    \"\"\" Implementation of cross entropy error function \"\"\"\n",
    "    return -np.sum(y*np.log(y_hat + 1e-7))"
   ]
  },
  {
   "cell_type": "code",
   "execution_count": 103,
   "metadata": {},
   "outputs": [],
   "source": [
    "y = np.array([0, 1, 0, 0, 0]) # actual values"
   ]
  },
  {
   "cell_type": "code",
   "execution_count": 104,
   "metadata": {},
   "outputs": [],
   "source": [
    "y_hat1 = np.array([0.1, 0.7, 0.1, 0.1, 0]) # predicted values"
   ]
  },
  {
   "cell_type": "code",
   "execution_count": 105,
   "metadata": {},
   "outputs": [
    {
     "data": {
      "text/plain": [
       "0.3566748010815999"
      ]
     },
     "execution_count": 105,
     "metadata": {},
     "output_type": "execute_result"
    }
   ],
   "source": [
    "cross_entropy_error(y_hat1, y) # cross entropy error for the given values"
   ]
  },
  {
   "cell_type": "code",
   "execution_count": 106,
   "metadata": {},
   "outputs": [],
   "source": [
    "y_hat2 = np.array([0.7, 0.05, 0.05, 0.2, 0]) # predicted values"
   ]
  },
  {
   "cell_type": "code",
   "execution_count": 107,
   "metadata": {},
   "outputs": [
    {
     "data": {
      "text/plain": [
       "2.9957302735559908"
      ]
     },
     "execution_count": 107,
     "metadata": {},
     "output_type": "execute_result"
    }
   ],
   "source": [
    "cross_entropy_error(y_hat2, y) # cross entropy error for the given values"
   ]
  },
  {
   "cell_type": "markdown",
   "metadata": {},
   "source": [
    "### Initializing Mnist data for training"
   ]
  },
  {
   "cell_type": "code",
   "execution_count": 108,
   "metadata": {},
   "outputs": [
    {
     "name": "stdout",
     "output_type": "stream",
     "text": [
      "Pickle: dataset/mnist.pkl already exists.\n",
      "Loading...\n",
      "Done.\n"
     ]
    }
   ],
   "source": [
    "from mnist_data import MnistData # importing the MnistData class from mnist_data.py\n",
    "my_mnist = MnistData() # creating an object of the MnistData class\n"
   ]
  },
  {
   "cell_type": "code",
   "execution_count": 109,
   "metadata": {},
   "outputs": [],
   "source": [
    "(train_images, train_labels), (_, _) = my_mnist.load() # loading the mnist data"
   ]
  },
  {
   "cell_type": "code",
   "execution_count": 110,
   "metadata": {},
   "outputs": [],
   "source": [
    "train_size = train_images.shape[0] # number of training images\n",
    "batch_size = 32 # batch size\n"
   ]
  },
  {
   "cell_type": "code",
   "execution_count": 111,
   "metadata": {},
   "outputs": [
    {
     "name": "stdout",
     "output_type": "stream",
     "text": [
      "[33085 35761 18165 54676 23916  9785 23198  7278 44993 37739 41420  9202\n",
      " 56778 20345 58509 15125 14741 30361 42689 22450  8151 18370 38507 55965\n",
      " 59564 48778 15223  2365 44933 33124 35491 19381]\n"
     ]
    }
   ],
   "source": [
    "batch_mask = np.random.choice(train_size, batch_size) # randomly selecting 32 images from the training data\n",
    "print(batch_mask)"
   ]
  },
  {
   "cell_type": "code",
   "execution_count": 112,
   "metadata": {},
   "outputs": [
    {
     "data": {
      "text/plain": [
       "60000"
      ]
     },
     "execution_count": 112,
     "metadata": {},
     "output_type": "execute_result"
    }
   ],
   "source": [
    "train_size"
   ]
  },
  {
   "cell_type": "code",
   "execution_count": 113,
   "metadata": {},
   "outputs": [],
   "source": [
    "# for mini-batch training.\n",
    "def cross_entropy_error(y_hat, y): # cross entropy error function\n",
    "    \"\"\" Implementaion of cross entropy error function for mini-batch training\"\"\"\n",
    "    batch_size = 1 if y_hat.ndim == 1 else y_hat.shape[0]\n",
    "    return -np.sum(y*np.log(y_hat + 1e-7))/batch_size"
   ]
  },
  {
   "cell_type": "code",
   "execution_count": 114,
   "metadata": {},
   "outputs": [],
   "source": [
    "y_hat_batch = np.array([ [0.2, 0.2, 0.3, 0.1, 0.2], [0.1, 0.1, 0.1, 0.1, 0.6]])\n",
    "y_batch =     np.array([ [0,   0,   1,   0,    0],   [0,   0,   0,   0,   1]])"
   ]
  },
  {
   "cell_type": "code",
   "execution_count": 115,
   "metadata": {},
   "outputs": [
    {
     "data": {
      "text/plain": [
       "0.8573989640459981"
      ]
     },
     "execution_count": 115,
     "metadata": {},
     "output_type": "execute_result"
    }
   ],
   "source": [
    "cross_entropy_error(y_hat_batch, y_batch) # cross entropy error for the given values"
   ]
  },
  {
   "cell_type": "code",
   "execution_count": 116,
   "metadata": {},
   "outputs": [
    {
     "data": {
      "text/plain": [
       "1e+48"
      ]
     },
     "execution_count": 116,
     "metadata": {},
     "output_type": "execute_result"
    }
   ],
   "source": [
    "(0.1/10e-50)"
   ]
  },
  {
   "cell_type": "markdown",
   "metadata": {},
   "source": [
    "### Implementation of numerical differentiation"
   ]
  },
  {
   "cell_type": "code",
   "execution_count": 117,
   "metadata": {},
   "outputs": [],
   "source": [
    "def numerical_diff(f, x): # numerical differentiation\n",
    "    \"\"\" Implementation of numerical differentiation for a given function f and a point x\"\"\"\n",
    "    h = 10e-50\n",
    "    return (f(x + h) - f(x))/h"
   ]
  },
  {
   "cell_type": "code",
   "execution_count": 118,
   "metadata": {},
   "outputs": [],
   "source": [
    "def func(x): # function to be differentiated\n",
    "    return x**2 + 0.1*x\n",
    "    "
   ]
  },
  {
   "cell_type": "code",
   "execution_count": 119,
   "metadata": {},
   "outputs": [
    {
     "data": {
      "text/plain": [
       "0.0"
      ]
     },
     "execution_count": 119,
     "metadata": {},
     "output_type": "execute_result"
    }
   ],
   "source": [
    "numerical_diff(func, 0.8) # numerical differentiation of the function at x = 0.8"
   ]
  },
  {
   "cell_type": "code",
   "execution_count": 120,
   "metadata": {},
   "outputs": [],
   "source": [
    "# more reasonable approximation for the derivative\n",
    "def numerical_diff(f, x): \n",
    "    \"\"\" Implementation of numerical differentiation \"\"\"\n",
    "    h = 1e-4\n",
    "    return (f(x + h) - f(x - h))/(2*h)"
   ]
  },
  {
   "cell_type": "code",
   "execution_count": 121,
   "metadata": {},
   "outputs": [
    {
     "data": {
      "text/plain": [
       "1.6999999999994797"
      ]
     },
     "execution_count": 121,
     "metadata": {},
     "output_type": "execute_result"
    }
   ],
   "source": [
    "numerical_diff(func, 0.8) # numerical differentiation of the function at x = 0.8"
   ]
  },
  {
   "cell_type": "code",
   "execution_count": 122,
   "metadata": {},
   "outputs": [
    {
     "data": {
      "text/plain": [
       "0.49999999999994493"
      ]
     },
     "execution_count": 122,
     "metadata": {},
     "output_type": "execute_result"
    }
   ],
   "source": [
    "numerical_diff(func, 0.2) # numerical differentiation of the function at x = 0.2"
   ]
  },
  {
   "cell_type": "code",
   "execution_count": 123,
   "metadata": {},
   "outputs": [],
   "source": [
    "def func(x): # function to be differentiated\n",
    "    return x[0]**2 + x[1]**2\n",
    "\n",
    "def func_tmp1(x0): # function to be differentiated\n",
    "    return x0**2 + 4.0**2"
   ]
  },
  {
   "cell_type": "code",
   "execution_count": 124,
   "metadata": {},
   "outputs": [
    {
     "data": {
      "text/plain": [
       "6.00000000000378"
      ]
     },
     "execution_count": 124,
     "metadata": {},
     "output_type": "execute_result"
    }
   ],
   "source": [
    "numerical_diff(func_tmp1, 3.0) # numerical differentiation of the function at x = 3.0"
   ]
  },
  {
   "cell_type": "code",
   "execution_count": 125,
   "metadata": {},
   "outputs": [],
   "source": [
    "def func_tmp2(x1):\n",
    "    return 3.0**2 + x1**2"
   ]
  },
  {
   "cell_type": "code",
   "execution_count": 126,
   "metadata": {},
   "outputs": [
    {
     "data": {
      "text/plain": [
       "7.999999999999119"
      ]
     },
     "execution_count": 126,
     "metadata": {},
     "output_type": "execute_result"
    }
   ],
   "source": [
    "numerical_diff(func_tmp2, 4.0)"
   ]
  },
  {
   "cell_type": "code",
   "execution_count": null,
   "metadata": {},
   "outputs": [],
   "source": []
  },
  {
   "cell_type": "markdown",
   "metadata": {},
   "source": [
    "### Numerical Gradient"
   ]
  },
  {
   "cell_type": "code",
   "execution_count": 127,
   "metadata": {},
   "outputs": [],
   "source": [
    "import numpy as np"
   ]
  },
  {
   "cell_type": "code",
   "execution_count": 128,
   "metadata": {},
   "outputs": [],
   "source": [
    "def func2(x):\n",
    "    return x[0]**2 + x[1]**2"
   ]
  },
  {
   "cell_type": "code",
   "execution_count": 129,
   "metadata": {},
   "outputs": [],
   "source": [
    "# partial derivatives when x0 = 3, x1 = 4\n",
    "\n",
    "def func_tmp1(x0):\n",
    "    return x0**2 + 4**2\n",
    "\n",
    "def func_tmp2(x1):\n",
    "    return 3**2 + x1**2"
   ]
  },
  {
   "cell_type": "code",
   "execution_count": 130,
   "metadata": {},
   "outputs": [],
   "source": [
    "def _numerical_diff(f, x): # numerical differentiation\n",
    "    \"\"\" Implementation of numerical differentiation \"\"\"\n",
    "    h = 1e-4\n",
    "    return (f(x + h) - f(x - h))/(2*h)"
   ]
  },
  {
   "cell_type": "code",
   "execution_count": 131,
   "metadata": {},
   "outputs": [],
   "source": [
    "def _numerical_gradient(f, x): # numerical gradient\n",
    "    \"\"\"Implementation of numerical gradient for a function f at point x\"\"\"\n",
    "    h = 1e-4 # 0.0001\n",
    "    grad = np.zeros_like(x) \n",
    "    \n",
    "    for idx in range(x.size):\n",
    "        tmp_val = x[idx]\n",
    "        \n",
    "        # f(x+h) \n",
    "        x[idx] = float(tmp_val) + h\n",
    "        fxh1 = f(x)\n",
    "        \n",
    "        # f(x-h) \n",
    "        x[idx] = tmp_val - h \n",
    "        fxh2 = f(x) \n",
    "        \n",
    "        grad[idx] = (fxh1 - fxh2) / (2*h)\n",
    "        x[idx] = tmp_val \n",
    "        \n",
    "    return grad\n",
    "\n"
   ]
  },
  {
   "cell_type": "code",
   "execution_count": 132,
   "metadata": {},
   "outputs": [
    {
     "data": {
      "text/plain": [
       "6.00000000000378"
      ]
     },
     "execution_count": 132,
     "metadata": {},
     "output_type": "execute_result"
    }
   ],
   "source": [
    "_numerical_diff(func_tmp1, 3.0)"
   ]
  },
  {
   "cell_type": "code",
   "execution_count": 133,
   "metadata": {},
   "outputs": [
    {
     "data": {
      "text/plain": [
       "7.999999999999119"
      ]
     },
     "execution_count": 133,
     "metadata": {},
     "output_type": "execute_result"
    }
   ],
   "source": [
    "_numerical_diff(func_tmp2, 4.0)"
   ]
  },
  {
   "cell_type": "code",
   "execution_count": 134,
   "metadata": {},
   "outputs": [
    {
     "data": {
      "text/plain": [
       "array([6., 8.])"
      ]
     },
     "execution_count": 134,
     "metadata": {},
     "output_type": "execute_result"
    }
   ],
   "source": [
    "_numerical_gradient(func2, np.array([3.0, 4.0]))\n"
   ]
  },
  {
   "cell_type": "markdown",
   "metadata": {},
   "source": [
    "### Implementation of gradient descent"
   ]
  },
  {
   "cell_type": "code",
   "execution_count": 135,
   "metadata": {},
   "outputs": [],
   "source": [
    "def gradient_descent(f, init_x, lr=0.1, step_num = 100): # gradient descent function for optimization\n",
    "    \"\"\" implement the gradient descent algorithm for optimization\"\"\"\n",
    "    x = init_x\n",
    "    for i in range(step_num):\n",
    "        grad = _numerical_gradient(f, x)\n",
    "        x -= lr*grad  # x = x - lr*grad\n",
    "\n",
    "    return x"
   ]
  },
  {
   "cell_type": "code",
   "execution_count": 136,
   "metadata": {},
   "outputs": [
    {
     "data": {
      "text/plain": [
       "array([5.65680105e-06, 2.02028609e-06])"
      ]
     },
     "execution_count": 136,
     "metadata": {},
     "output_type": "execute_result"
    }
   ],
   "source": [
    "init_x = np.array([2800.0, 1000.0])\n",
    "# func2 = x0**2 + x1**2\n",
    "gradient_descent(func2, init_x, step_num=10000, lr=0.001) # optimization of the function"
   ]
  },
  {
   "cell_type": "markdown",
   "metadata": {},
   "source": [
    "### Implementation of SimpleNet"
   ]
  },
  {
   "cell_type": "code",
   "execution_count": 137,
   "metadata": {},
   "outputs": [],
   "source": [
    "class SimpleNet:\n",
    "    \"\"\" \n",
    "    A simple neural network with a single layer, implementing forward propagation,\n",
    "    softmax activation, and cross-entropy loss. This network is used for multi-class\n",
    "    classification problems.\n",
    "    \"\"\"\n",
    "    def __init__(self):\n",
    "        \"\"\"\n",
    "        Initializes the SimpleNet with random weights for the input layer.\n",
    "        \"\"\"\n",
    "        self.w = np.random.randn(2, 3)\n",
    "\n",
    "\n",
    "    # for multi-dimensional x\n",
    "    def softmax(self, x):\n",
    "        \"\"\"  Computes the softmax activation function.\n",
    "\n",
    "        Softmax converts raw output scores (logits) into probability distributions \n",
    "        over classes by normalizing them.\"\"\"\n",
    "        if x.ndim == 2:\n",
    "            x = x.T\n",
    "            x = x - np.max(x, axis=0)\n",
    "            y = np.exp(x) / np.sum(np.exp(x), axis=0)\n",
    "            return y.T \n",
    "\n",
    "        x = x - np.max(x)  \n",
    "        return np.exp(x) / np.sum(np.exp(x))\n",
    "\n",
    "\n",
    "    def cross_entroy_error(self, y, t):\n",
    "        \"\"\" Computes the cross-entropy error between the predicted output `y` and the true labels `t`.\n",
    "\n",
    "        The cross-entropy loss is commonly used for classification problems. It calculates\n",
    "        the difference between the predicted probabilities and the true class labels.\"\"\"\n",
    "        delta = 1e-7\n",
    "        batch_size = 1 if y.ndim == 1 else y.shape[0]\n",
    "\n",
    "        return -np.sum(t*np.log(y + delta)) / batch_size\n",
    "\n",
    "\n",
    "    # for multi-dimensional x\n",
    "    def numerical_gradient(self, f, x):\n",
    "        \"\"\"  Computes the numerical gradient of a function `f` with respect to `x` using finite differences. \"\"\"\n",
    "        h = 1e-4 # 0.0001\n",
    "        grad = np.zeros_like(x)\n",
    "        \n",
    "        it = np.nditer(x, flags=['multi_index'], op_flags=['readwrite'])\n",
    "        while not it.finished:\n",
    "            idx = it.multi_index\n",
    "            tmp_val = x[idx]\n",
    "            x[idx] = float(tmp_val) + h\n",
    "            fxh1 = f(x) # f(x+h)\n",
    "            \n",
    "            x[idx] = tmp_val - h \n",
    "            fxh2 = f(x) # f(x-h)\n",
    "            grad[idx] = (fxh1 - fxh2) / (2*h)\n",
    "            \n",
    "            x[idx] = tmp_val \n",
    "            it.iternext()   \n",
    "            \n",
    "        return grad\n",
    "\n",
    "\n",
    "    def predict(self, x):\n",
    "        \"\"\"Performs a forward pass through the network and computes the predicted output. \"\"\"\n",
    "        return np.dot(x, self.w)\n",
    "    \n",
    "\n",
    "    def loss(self, x, y):\n",
    "        \"\"\" Computes the loss (cross-entropy error) for a given input `x` and true label `y`.\n",
    "\n",
    "        The loss is computed by first passing the input through the network to get the\n",
    "        predicted output and then calculating the cross-entropy loss.\"\"\"\n",
    "        z = self.predict(x)\n",
    "        y_hat = self.softmax(z)\n",
    "        loss = self.cross_entroy_error(y_hat, y)\n",
    "\n",
    "        return loss"
   ]
  },
  {
   "cell_type": "code",
   "execution_count": 138,
   "metadata": {},
   "outputs": [
    {
     "name": "stdout",
     "output_type": "stream",
     "text": [
      "[[ 0.13566702 -0.95093142  0.56273777]\n",
      " [-0.84326872  0.32122329 -1.48741569]]\n"
     ]
    }
   ],
   "source": [
    "# testing SimpleNet\n",
    "net = SimpleNet() # creating an object of the SimpleNet class\n",
    "print(net.w) # weights of the network"
   ]
  },
  {
   "cell_type": "code",
   "execution_count": 139,
   "metadata": {},
   "outputs": [
    {
     "name": "stdout",
     "output_type": "stream",
     "text": [
      "[-0.06525415 -0.60461957  0.11130746]\n"
     ]
    }
   ],
   "source": [
    "x = np.array([0.7, 0.19]) # input to the network\n",
    "p = net.predict(x) # prediction of the network\n",
    "print(p)"
   ]
  },
  {
   "cell_type": "code",
   "execution_count": 140,
   "metadata": {},
   "outputs": [
    {
     "data": {
      "text/plain": [
       "2"
      ]
     },
     "execution_count": 140,
     "metadata": {},
     "output_type": "execute_result"
    }
   ],
   "source": [
    "np.argmax(p) # index of the maximum value in the prediction"
   ]
  },
  {
   "cell_type": "code",
   "execution_count": 141,
   "metadata": {},
   "outputs": [
    {
     "data": {
      "text/plain": [
       "1.5604574334774888"
      ]
     },
     "execution_count": 141,
     "metadata": {},
     "output_type": "execute_result"
    }
   ],
   "source": [
    "y = np.array([0, 1, 0]) # true label\n",
    "net.loss(x, y) # loss of the network"
   ]
  },
  {
   "cell_type": "code",
   "execution_count": 142,
   "metadata": {},
   "outputs": [
    {
     "data": {
      "text/plain": [
       "0.8445306482681669"
      ]
     },
     "execution_count": 142,
     "metadata": {},
     "output_type": "execute_result"
    }
   ],
   "source": [
    "y = np.array([0, 0, 1]) # true label\n",
    "net.loss(x, y) # loss for the given input and true label"
   ]
  },
  {
   "cell_type": "code",
   "execution_count": 143,
   "metadata": {},
   "outputs": [],
   "source": [
    "def loss_function(w): # loss function\n",
    "    return net.loss(x, y)"
   ]
  },
  {
   "cell_type": "code",
   "execution_count": 144,
   "metadata": {},
   "outputs": [
    {
     "name": "stdout",
     "output_type": "stream",
     "text": [
      "[[ 0.25214079  0.14702787 -0.39916866]\n",
      " [ 0.06843821  0.03990757 -0.10834578]]\n"
     ]
    }
   ],
   "source": [
    "dw = net.numerical_gradient(loss_function, net.w) # gradient of the loss function\n",
    "print(dw)"
   ]
  },
  {
   "cell_type": "code",
   "execution_count": 145,
   "metadata": {},
   "outputs": [],
   "source": [
    "# using lamda\n",
    "loss_function = lambda w: net.loss(x, y) # loss function"
   ]
  },
  {
   "cell_type": "code",
   "execution_count": 146,
   "metadata": {},
   "outputs": [
    {
     "name": "stdout",
     "output_type": "stream",
     "text": [
      "[[ 0.25214079  0.14702787 -0.39916866]\n",
      " [ 0.06843821  0.03990757 -0.10834578]]\n"
     ]
    }
   ],
   "source": [
    "dw = net.numerical_gradient(loss_function, net.w) # gradient of the loss function\n",
    "print(dw)"
   ]
  },
  {
   "cell_type": "markdown",
   "metadata": {},
   "source": [
    "### Implementation of TwoLayerNet class"
   ]
  },
  {
   "cell_type": "code",
   "execution_count": 147,
   "metadata": {},
   "outputs": [],
   "source": [
    "class Activations:\n",
    "    \"\"\" A class to handle different types of activations for neural networks.\"\"\"\n",
    "    def sigmoid(self, x):\n",
    "        \"\"\"Sigmoid activation function implementation\"\"\"\n",
    "        return 1/(1 + np.exp(-x))\n",
    "    \n",
    "    # for multi-dimensional x\n",
    "    def softmax(self, x):\n",
    "        \"\"\"Softmax activation function implementation\"\"\"\n",
    "        if x.ndim == 2:\n",
    "            x = x.T\n",
    "            x = x - np.max(x, axis=0)\n",
    "            y = np.exp(x) / np.sum(np.exp(x), axis=0)\n",
    "            return y.T \n",
    "\n",
    "        x = x - np.max(x)  \n",
    "        return np.exp(x) / np.sum(np.exp(x))\n"
   ]
  },
  {
   "cell_type": "code",
   "execution_count": 148,
   "metadata": {},
   "outputs": [],
   "source": [
    "class Errors:\n",
    "    \"\"\" A class to handle different types of errors for neural networks.\"\"\"\n",
    "    def cross_entroy_error(self, y, t):\n",
    "        \"\"\"Calculates the cross-entropy error between the predicted and true labels.\"\"\"\n",
    "        delta = 1e-7\n",
    "        batch_size = 1 if y.ndim == 1 else y.shape[0]\n",
    "\n",
    "        return -np.sum(t*np.log(y + delta)) / batch_size"
   ]
  },
  {
   "cell_type": "code",
   "execution_count": 149,
   "metadata": {},
   "outputs": [],
   "source": [
    "import activations\n",
    "import errors"
   ]
  },
  {
   "cell_type": "code",
   "execution_count": 150,
   "metadata": {},
   "outputs": [],
   "source": [
    "class TwoLayerNet:\n",
    "    \"\"\"A simple two-layer neural network with one hidden layer, used for classification tasks.\n",
    "\n",
    "    This class implements a feedforward neural network with one hidden layer. The network \n",
    "    uses the sigmoid activation function for the hidden layer and softmax activation for \n",
    "    the output layer. It also includes methods for computing the loss (cross-entropy), \n",
    "    predicting the output, and calculating the accuracy. Gradient computation is performed \n",
    "    numerically. \"\"\"\n",
    "    def __init__(self, input_size, hidden_size, output_size, weight_init_std=0.01):\n",
    "        \"\"\"Initializes the two-layer neural network with random weights and biases.\"\"\"\n",
    "        self.params = {}\n",
    "\n",
    "        self.params['w1'] = weight_init_std*np.random.randn(input_size, hidden_size)\n",
    "        self.params['b1'] = np.zeros(hidden_size)\n",
    "\n",
    "        self.params['w2'] = weight_init_std*np.random.randn(hidden_size, output_size)\n",
    "        self.params['b2'] = np.zeros(output_size)\n",
    "\n",
    "        self.activations = activations.Activations()\n",
    "        self.errors = errors.Errors()\n",
    "\n",
    "    def predict(self, x):\n",
    "        \"\"\"Performs a forward pass through the network and returns the predicted output. \"\"\"\n",
    "        w1, w2 = self.params['w1'], self.params['w2']\n",
    "        b1, b2 = self.params['b1'], self.params['b2']\n",
    "        \n",
    "        a1 = np.dot(x, w1) + b1\n",
    "        z1 = self.activations.sigmoid(a1)\n",
    "        a2 = np.dot(z1, w2) + b2\n",
    "        y = self.activations.softmax(a2)\n",
    "\n",
    "        return y\n",
    "    \n",
    "    def loss(self, x, y):\n",
    "        \"\"\"Computes the loss (cross-entropy) for a given input and true label. \"\"\"\n",
    "        y_hat = self.predict(x)\n",
    "\n",
    "        return self.errors.cross_entropy_error(y_hat, y)\n",
    "    \n",
    "\n",
    "    def accuracy(self, x, y):\n",
    "        \"\"\"Calculates the accuracy of the network for a given input and true label. \"\"\"\n",
    "        y_hat = self.predict(x)\n",
    "        p = np.argmax(y_hat, axis=1)\n",
    "        y_p = np.argmax(y, axis=1)\n",
    "\n",
    "        return np.sum(p == y_p)/float(x.shape[0])\n",
    "    \n",
    "\n",
    "    # for multi-dimensional x\n",
    "    def _numerical_gradient(self, f, x):\n",
    "        \"\"\"Computes the numerical gradient of a function `f` with respect to `x` using finite differences.\"\"\"\n",
    "        h = 1e-4 # 0.0001\n",
    "        grad = np.zeros_like(x)\n",
    "        \n",
    "        it = np.nditer(x, flags=['multi_index'], op_flags=['readwrite'])\n",
    "        while not it.finished:\n",
    "            idx = it.multi_index\n",
    "            tmp_val = x[idx]\n",
    "            x[idx] = float(tmp_val) + h\n",
    "            fxh1 = f(x) # f(x+h)\n",
    "            \n",
    "            x[idx] = tmp_val - h \n",
    "            fxh2 = f(x) # f(x-h)\n",
    "            grad[idx] = (fxh1 - fxh2) / (2*h)\n",
    "            \n",
    "            x[idx] = tmp_val \n",
    "            it.iternext()   \n",
    "            \n",
    "        return grad\n",
    "    \n",
    "\n",
    "    def numerical_gradient(self, x, y):\n",
    "        \"\"\"Computes the numerical gradient of the loss function with respect to the weights.\"\"\"\n",
    "        loss_w = lambda w: self.loss(x, y)\n",
    "\n",
    "        grads = {}\n",
    "        grads['w1'] = self._numerical_gradient(loss_w, self.params['w1'])\n",
    "        grads['b1'] = self._numerical_gradient(loss_w, self.params['b1'])\n",
    "        grads['w2'] = self._numerical_gradient(loss_w, self.params['w2'])\n",
    "        grads['b2'] = self._numerical_gradient(loss_w, self.params['b2'])\n",
    "\n",
    "        return grads\n",
    "    "
   ]
  },
  {
   "cell_type": "markdown",
   "metadata": {},
   "source": [
    "### Training the TwoLayerNet"
   ]
  },
  {
   "cell_type": "code",
   "execution_count": 151,
   "metadata": {},
   "outputs": [],
   "source": [
    "from mnist_data import MnistData\n",
    "import matplotlib.pyplot as plt\n",
    "import numpy as np"
   ]
  },
  {
   "cell_type": "code",
   "execution_count": 152,
   "metadata": {},
   "outputs": [
    {
     "name": "stdout",
     "output_type": "stream",
     "text": [
      "Pickle: dataset/mnist.pkl already exists.\n",
      "Loading...\n",
      "Done.\n"
     ]
    }
   ],
   "source": [
    "my_mnist = MnistData()"
   ]
  },
  {
   "cell_type": "code",
   "execution_count": 153,
   "metadata": {},
   "outputs": [],
   "source": [
    "(x_train, y_train), (x_test, y_test) = my_mnist.load()"
   ]
  },
  {
   "cell_type": "code",
   "execution_count": 154,
   "metadata": {},
   "outputs": [
    {
     "name": "stdout",
     "output_type": "stream",
     "text": [
      "(60000, 784)\n",
      "(60000, 10)\n",
      "(10000, 784)\n",
      "(10000, 10)\n"
     ]
    }
   ],
   "source": [
    "print(x_train.shape)\n",
    "print(y_train.shape)\n",
    "print(x_test.shape)\n",
    "print(y_test.shape)"
   ]
  },
  {
   "cell_type": "code",
   "execution_count": 155,
   "metadata": {},
   "outputs": [],
   "source": [
    "\n",
    "network = TwoLayerNet(input_size=28*28, hidden_size=100, output_size=10) # creating an object of the TwoLayerNet class"
   ]
  },
  {
   "cell_type": "code",
   "execution_count": 156,
   "metadata": {},
   "outputs": [
    {
     "data": {
      "text/plain": [
       "{'w1': array([[-0.00711662,  0.01334689,  0.00053283, ..., -0.00439923,\n",
       "          0.00933688, -0.00413704],\n",
       "        [ 0.00937496, -0.00334308, -0.0043983 , ..., -0.00304115,\n",
       "          0.01632827, -0.00340226],\n",
       "        [-0.00171596,  0.00688549,  0.00086869, ...,  0.01601761,\n",
       "          0.00346632,  0.00999029],\n",
       "        ...,\n",
       "        [-0.01353928, -0.00156907,  0.01366574, ...,  0.00753212,\n",
       "          0.00895732, -0.0066174 ],\n",
       "        [ 0.03274926, -0.00576418,  0.00083674, ..., -0.00400445,\n",
       "         -0.00984168, -0.00178521],\n",
       "        [ 0.01219621,  0.00717279,  0.00182846, ...,  0.002376  ,\n",
       "         -0.00851964,  0.0046679 ]]),\n",
       " 'b1': array([0., 0., 0., 0., 0., 0., 0., 0., 0., 0., 0., 0., 0., 0., 0., 0., 0.,\n",
       "        0., 0., 0., 0., 0., 0., 0., 0., 0., 0., 0., 0., 0., 0., 0., 0., 0.,\n",
       "        0., 0., 0., 0., 0., 0., 0., 0., 0., 0., 0., 0., 0., 0., 0., 0., 0.,\n",
       "        0., 0., 0., 0., 0., 0., 0., 0., 0., 0., 0., 0., 0., 0., 0., 0., 0.,\n",
       "        0., 0., 0., 0., 0., 0., 0., 0., 0., 0., 0., 0., 0., 0., 0., 0., 0.,\n",
       "        0., 0., 0., 0., 0., 0., 0., 0., 0., 0., 0., 0., 0., 0., 0.]),\n",
       " 'w2': array([[ 1.60072583e-02, -1.13397344e-03, -7.22522721e-04,\n",
       "         -5.73543342e-03,  1.18399376e-04,  5.08096454e-03,\n",
       "         -9.63108947e-03, -9.13848057e-03,  3.64182654e-03,\n",
       "         -1.84276278e-03],\n",
       "        [-1.11023064e-02, -1.44144696e-02,  4.58504048e-03,\n",
       "          1.75759029e-02, -1.98875443e-03,  1.18685398e-02,\n",
       "         -1.37529281e-02,  6.63854887e-03, -2.64467086e-03,\n",
       "         -1.71057684e-02],\n",
       "        [-4.15809013e-03,  1.20466259e-03, -5.82946677e-03,\n",
       "         -6.16252742e-03,  2.17321336e-02,  1.93835127e-02,\n",
       "         -3.39207209e-03, -4.60045024e-03,  1.60651397e-02,\n",
       "          1.42145352e-02],\n",
       "        [ 1.01780265e-02,  1.12269527e-02,  5.35627529e-03,\n",
       "          9.20933099e-03, -4.44646146e-03, -7.05364743e-03,\n",
       "         -1.04496844e-02,  1.48965492e-03, -3.69234479e-03,\n",
       "          3.57089719e-03],\n",
       "        [-1.30283975e-02, -5.68261331e-03,  3.20458297e-03,\n",
       "          2.37843693e-03, -1.65068369e-02, -8.67692575e-03,\n",
       "          2.00546362e-02, -2.08721217e-03, -1.25800628e-02,\n",
       "          7.92427797e-03],\n",
       "        [-5.72040956e-03, -1.85900069e-03,  6.83322426e-03,\n",
       "          2.41806020e-03, -3.04647905e-03, -2.15550159e-03,\n",
       "          3.21867065e-04, -3.16930484e-03, -1.11073642e-02,\n",
       "          2.75074443e-03],\n",
       "        [-1.09116611e-02,  1.61280964e-02,  2.19677926e-02,\n",
       "          1.11779346e-03,  1.06892175e-02,  1.19672042e-02,\n",
       "          2.03674430e-02, -1.43343417e-02, -1.86281660e-04,\n",
       "         -1.17220898e-02],\n",
       "        [-1.92751539e-02, -4.34277192e-03, -2.30943006e-04,\n",
       "          2.57100837e-03, -1.68432575e-02, -1.34896703e-03,\n",
       "          5.25105626e-04, -5.29969046e-03,  2.04597661e-02,\n",
       "         -3.08201168e-03],\n",
       "        [-5.09513692e-03,  5.31225450e-03, -2.13904147e-03,\n",
       "          9.87934421e-03,  1.33273877e-02,  7.64477761e-03,\n",
       "          1.03463579e-02, -4.07064852e-03,  1.37588986e-02,\n",
       "          6.67260882e-03],\n",
       "        [ 8.84517370e-04, -5.04177726e-03, -1.58475080e-03,\n",
       "          8.31439289e-03, -1.60031322e-02, -1.46604925e-02,\n",
       "         -8.16865961e-03,  1.39495337e-02, -3.84745499e-03,\n",
       "         -8.39449748e-04],\n",
       "        [ 2.30066768e-03,  9.20384266e-03, -2.50809158e-03,\n",
       "         -1.25503156e-02,  1.58135825e-02,  3.51008992e-03,\n",
       "         -1.44121355e-02,  8.88928178e-03, -1.83003878e-02,\n",
       "         -2.53622277e-02],\n",
       "        [-1.17736454e-02, -1.11183442e-02, -6.72707489e-03,\n",
       "          6.27096666e-03, -9.94191485e-03,  2.93664701e-03,\n",
       "          1.19678602e-02, -1.82188957e-02,  1.36138205e-03,\n",
       "          8.64161786e-03],\n",
       "        [-4.73074306e-03,  9.04317728e-03, -9.01788618e-03,\n",
       "          7.47740976e-03,  2.30037929e-03, -6.48299669e-03,\n",
       "         -7.03069977e-03,  1.31899937e-02, -1.61729216e-03,\n",
       "         -2.38778087e-02],\n",
       "        [-7.70592704e-03,  1.05201852e-02, -2.85544086e-03,\n",
       "         -3.21159985e-03,  4.32841546e-03,  8.30525950e-04,\n",
       "         -6.04646005e-04, -5.74602729e-03, -1.08043217e-02,\n",
       "          3.14183236e-03],\n",
       "        [ 6.06578383e-03,  1.41723850e-02,  7.93559271e-03,\n",
       "         -1.00530803e-02, -6.44920697e-03,  1.69620710e-02,\n",
       "         -5.73220506e-03, -1.16270696e-03,  6.30283717e-03,\n",
       "         -6.78389234e-04],\n",
       "        [ 7.16058366e-03,  1.18127563e-02,  1.04891936e-02,\n",
       "         -1.47040471e-02,  2.96234265e-04, -8.23094668e-03,\n",
       "         -6.17451873e-03, -3.25618807e-03, -5.57990399e-03,\n",
       "         -1.67845237e-02],\n",
       "        [ 6.17595440e-03, -6.26670318e-03, -3.07061448e-03,\n",
       "          1.23789637e-02,  1.36762041e-02,  1.59508864e-02,\n",
       "          5.28754576e-04, -2.05511466e-02,  2.33602401e-02,\n",
       "          1.32579313e-02],\n",
       "        [-4.07861189e-03, -1.00290713e-02, -1.12503432e-02,\n",
       "         -7.66543450e-03,  1.66179303e-02,  4.23410306e-03,\n",
       "          9.99024721e-03,  9.06905156e-03, -1.14013623e-02,\n",
       "         -7.87599315e-03],\n",
       "        [-4.85818733e-03, -9.92451540e-03, -9.38437495e-03,\n",
       "         -2.04476369e-02, -3.52944297e-03, -3.10193015e-03,\n",
       "         -6.97085896e-03, -3.66144763e-03,  3.08397272e-03,\n",
       "         -3.21367677e-03],\n",
       "        [ 2.77285586e-04,  1.13639420e-02, -2.17792069e-03,\n",
       "         -1.00171511e-02,  1.46094835e-02,  5.55240943e-03,\n",
       "          4.84380766e-03, -3.45416709e-03, -1.86962817e-02,\n",
       "          5.88872572e-03],\n",
       "        [-2.09089687e-02,  1.87678922e-02, -1.60617949e-02,\n",
       "          4.57058245e-03,  4.83985787e-03,  6.58869354e-03,\n",
       "         -8.41854214e-03, -5.67976019e-03,  1.29898402e-02,\n",
       "         -2.32590587e-03],\n",
       "        [-3.94558574e-03, -8.36459630e-03,  4.92884084e-03,\n",
       "         -1.35135750e-02, -7.89443930e-03,  2.99261678e-03,\n",
       "         -1.38657906e-02, -1.90596016e-03, -5.26101337e-03,\n",
       "          2.65677334e-03],\n",
       "        [-2.58273426e-04, -1.31143465e-02,  1.83873238e-02,\n",
       "          4.91487358e-03, -1.08261699e-02, -1.84933296e-02,\n",
       "         -7.34128670e-03, -1.93617980e-02, -9.34665878e-03,\n",
       "         -6.48099605e-03],\n",
       "        [-1.42601242e-02,  4.91037757e-03,  1.45893911e-03,\n",
       "         -7.77156917e-03, -1.15508244e-02, -7.25354857e-03,\n",
       "          1.17298283e-02, -3.07513033e-03, -7.92998733e-03,\n",
       "         -8.07639989e-04],\n",
       "        [-4.62613174e-03,  1.66575023e-03,  5.33772551e-03,\n",
       "         -3.70465988e-03, -2.82164252e-02, -1.72833327e-02,\n",
       "         -3.26635776e-03,  3.96384663e-04,  9.60742390e-03,\n",
       "         -1.55700362e-02],\n",
       "        [-7.68358345e-04,  6.25776754e-03,  8.11924699e-03,\n",
       "          3.08746922e-03, -3.17074474e-03, -1.50400655e-03,\n",
       "          5.15708242e-04,  1.55051313e-02,  6.58444310e-03,\n",
       "          1.41155336e-02],\n",
       "        [ 1.16969356e-02, -2.36635737e-03, -8.23097413e-03,\n",
       "         -3.84686662e-03, -1.66995324e-03,  1.21349731e-02,\n",
       "          1.92835163e-03,  6.78157296e-03,  3.94660738e-04,\n",
       "          1.89677744e-02],\n",
       "        [-3.72702809e-04, -1.88823255e-03, -3.82994746e-03,\n",
       "         -8.90294566e-03, -5.46237040e-03,  1.38142067e-02,\n",
       "         -2.43674199e-03, -2.00492815e-03, -7.03992320e-03,\n",
       "          6.83940707e-03],\n",
       "        [ 8.69144565e-03,  1.81536877e-02, -2.51642833e-02,\n",
       "          3.78395717e-03,  2.27897571e-03,  2.87288703e-03,\n",
       "          4.19868739e-03, -8.28786203e-03, -8.21559313e-03,\n",
       "          3.77297402e-03],\n",
       "        [-5.27912452e-04,  2.72736184e-02, -1.71782963e-03,\n",
       "         -1.83676776e-02, -9.63597571e-03, -2.22659948e-03,\n",
       "          2.68415770e-03, -2.49904514e-05, -8.86749306e-03,\n",
       "          1.34084245e-02],\n",
       "        [ 1.11282145e-02,  4.01592393e-03, -1.11492817e-02,\n",
       "          4.14929124e-03, -2.68818307e-04, -5.80701643e-03,\n",
       "         -1.57796001e-02,  1.92806133e-02,  1.44702067e-02,\n",
       "          2.66035016e-03],\n",
       "        [-2.18364060e-03,  5.18548406e-03,  2.69390610e-03,\n",
       "          3.02267439e-03, -1.45191644e-04,  8.20743013e-03,\n",
       "          1.93675143e-03, -1.02964641e-02, -8.68149998e-04,\n",
       "         -2.36764756e-03],\n",
       "        [-4.39324737e-03, -8.28233136e-03, -1.35072292e-02,\n",
       "          6.31311729e-03, -6.70954761e-03,  2.75949873e-03,\n",
       "         -1.69290177e-03, -1.34952686e-02,  2.02602774e-03,\n",
       "          3.53581311e-03],\n",
       "        [-8.64062272e-03,  4.67913247e-04, -5.80691896e-03,\n",
       "         -2.73147547e-04,  1.03276993e-02,  7.80565168e-03,\n",
       "          1.20116159e-04, -1.19979120e-02,  9.58439216e-05,\n",
       "         -6.27408452e-03],\n",
       "        [-5.76024205e-03,  1.02352007e-04, -5.69993629e-03,\n",
       "          1.66095987e-02, -2.00763543e-02, -1.40831510e-03,\n",
       "         -1.00566886e-02,  5.27251439e-03, -4.34519309e-03,\n",
       "         -8.20920571e-03],\n",
       "        [ 1.19548714e-02, -6.01820509e-04, -6.43528872e-03,\n",
       "          1.21469075e-02,  7.11487580e-03,  9.35288686e-03,\n",
       "          8.16998136e-03,  5.12397140e-03,  2.11885743e-02,\n",
       "          3.31013398e-03],\n",
       "        [ 1.38162417e-02,  7.28039650e-03, -1.34515012e-02,\n",
       "          1.24524886e-02,  3.71971624e-03,  6.95088154e-03,\n",
       "          3.03737443e-03, -1.06744941e-02, -5.17277916e-03,\n",
       "         -6.25939962e-03],\n",
       "        [ 2.99810960e-03, -7.68483483e-03,  8.04882955e-03,\n",
       "          1.14784432e-03,  7.45527457e-03, -8.86663504e-03,\n",
       "          9.05072887e-03,  9.02146647e-03,  1.04037380e-02,\n",
       "         -2.85247856e-03],\n",
       "        [ 1.80607750e-02, -1.27142892e-02,  2.00637523e-02,\n",
       "          1.50059506e-02,  1.53171314e-03,  1.66594415e-02,\n",
       "          1.93223471e-02,  1.19176416e-04, -7.36851043e-03,\n",
       "         -2.02170232e-02],\n",
       "        [-3.85438002e-03,  9.70239561e-03, -3.45119382e-03,\n",
       "         -2.37726754e-03, -1.54603955e-03, -5.21281783e-04,\n",
       "         -2.52868746e-03,  3.50938420e-03, -1.35203175e-02,\n",
       "          3.73623069e-04],\n",
       "        [-3.24330652e-04, -1.62491543e-02, -7.47655100e-03,\n",
       "         -9.16731073e-03,  7.34614823e-03,  1.54310145e-02,\n",
       "         -1.44228225e-02,  5.19229982e-03, -1.95733874e-03,\n",
       "         -2.52683640e-02],\n",
       "        [-6.61369424e-03, -6.38230354e-03, -7.32634825e-03,\n",
       "         -7.38180478e-03, -9.21080756e-03, -8.21444693e-03,\n",
       "          2.38447107e-02, -1.84357870e-02, -1.65008825e-02,\n",
       "          1.57969546e-02],\n",
       "        [-4.93230149e-03, -3.72459625e-03, -4.77701634e-03,\n",
       "         -1.17349155e-03, -1.50504941e-02, -1.38602183e-03,\n",
       "          6.05289553e-03,  1.13767610e-03,  1.08076367e-02,\n",
       "         -1.01090442e-02],\n",
       "        [-6.13137101e-03,  1.53326926e-02, -3.23524541e-04,\n",
       "          2.73647263e-03,  7.77196963e-03,  1.21736408e-03,\n",
       "          1.13346595e-02, -8.34229379e-03, -9.79013324e-04,\n",
       "         -9.57287646e-03],\n",
       "        [-7.28075635e-03,  5.30530425e-03,  7.36068590e-03,\n",
       "         -4.57037944e-03,  8.90435138e-03, -1.93343323e-02,\n",
       "          9.73883498e-03, -9.64481282e-03, -7.08061312e-03,\n",
       "          4.86359804e-03],\n",
       "        [ 1.21064166e-03,  4.54028479e-03, -9.14886046e-03,\n",
       "         -3.30110285e-03, -6.57348012e-03,  1.72426586e-03,\n",
       "          6.16505749e-03,  1.32258813e-02,  1.04140575e-02,\n",
       "          2.97077443e-05],\n",
       "        [ 1.00588415e-02,  2.19983342e-04,  4.15188006e-03,\n",
       "          1.78807317e-02,  6.25502404e-03, -1.89801239e-02,\n",
       "          3.62144049e-03,  3.75914002e-03, -7.50172149e-03,\n",
       "          2.72328094e-02],\n",
       "        [-5.33687953e-04, -2.33933592e-03,  1.73120337e-02,\n",
       "         -1.32763369e-02, -1.70626833e-02, -1.84122147e-02,\n",
       "         -2.17832042e-03, -1.54524644e-02, -8.78354721e-03,\n",
       "          2.13226442e-04],\n",
       "        [ 2.14192418e-02,  2.03559003e-03, -7.96763967e-03,\n",
       "          2.58049135e-03,  4.84554044e-03, -2.04743064e-03,\n",
       "         -5.81047184e-03,  1.31270718e-02, -2.61270361e-04,\n",
       "          3.81421195e-03],\n",
       "        [-7.66826921e-04, -2.71509580e-03, -5.07588455e-03,\n",
       "          3.42602231e-04, -6.48474388e-03,  1.93204634e-02,\n",
       "          9.86441467e-03,  1.14078659e-03, -1.04100907e-02,\n",
       "         -1.56780144e-02],\n",
       "        [ 1.12100826e-02, -9.28689467e-03, -4.15108305e-03,\n",
       "         -2.21033627e-02, -4.08805901e-03,  2.96396892e-03,\n",
       "          1.57699463e-02,  5.96433866e-03, -1.52767771e-02,\n",
       "         -1.01079974e-03],\n",
       "        [-4.12495802e-03,  7.40024213e-03, -4.61018792e-03,\n",
       "          6.54609073e-03, -6.22175689e-03,  1.79721021e-02,\n",
       "          1.08289915e-02, -2.35752319e-03, -8.33408571e-03,\n",
       "          9.65552036e-03],\n",
       "        [ 7.73137351e-03, -2.66913751e-03,  1.11814254e-02,\n",
       "         -9.15576815e-03, -9.28879049e-03, -1.71329641e-02,\n",
       "          2.05921449e-03,  5.19836244e-03,  4.88007490e-03,\n",
       "          1.42246421e-02],\n",
       "        [ 7.85793203e-03,  6.59671162e-03, -3.50187697e-03,\n",
       "         -7.13820755e-03,  2.65738349e-03,  9.18030184e-04,\n",
       "         -1.09064994e-02,  1.25825471e-03,  4.11154087e-03,\n",
       "          4.33284196e-03],\n",
       "        [ 7.28167589e-04, -5.04017627e-03, -4.65196482e-03,\n",
       "          2.20452416e-03,  8.52199550e-03, -3.43325186e-03,\n",
       "         -7.38270101e-04, -6.02153411e-03, -1.72233488e-02,\n",
       "          5.91401829e-04],\n",
       "        [ 4.44031822e-03, -1.98324399e-02,  2.89979044e-03,\n",
       "         -1.18734629e-02,  3.95550057e-03, -4.95644571e-03,\n",
       "         -1.17689872e-02,  8.28237125e-03, -2.94107807e-03,\n",
       "         -1.04792786e-02],\n",
       "        [ 1.67457878e-02,  1.31313867e-02,  1.06958022e-03,\n",
       "         -3.03687511e-03, -1.36091443e-03, -3.76149400e-03,\n",
       "          1.21060644e-02, -8.22736683e-03,  1.21595372e-02,\n",
       "         -4.26401484e-03],\n",
       "        [-7.27250559e-03, -1.33400398e-02, -3.82988713e-03,\n",
       "          2.83096491e-03, -6.26559569e-03,  5.06548065e-03,\n",
       "         -1.90039243e-03, -2.17773758e-03,  1.10001965e-04,\n",
       "          4.77057071e-03],\n",
       "        [ 1.14677144e-02, -7.01630219e-03, -8.07956911e-04,\n",
       "          6.10895601e-03, -8.23797917e-03, -6.57148246e-03,\n",
       "          1.29691506e-02,  1.08377807e-02,  7.65812224e-03,\n",
       "         -1.20736832e-02],\n",
       "        [-1.44461670e-03, -6.67772243e-04,  3.05537018e-03,\n",
       "         -2.03932729e-02,  8.63437080e-03,  7.93687163e-04,\n",
       "          2.09658432e-03,  1.87227241e-03, -2.23150191e-03,\n",
       "         -3.09030580e-03],\n",
       "        [ 1.58054707e-02,  6.78027770e-03, -1.03680920e-02,\n",
       "          3.00511003e-04,  1.93846170e-02,  2.20611374e-02,\n",
       "          3.60629081e-03,  5.27961851e-03,  7.43370835e-03,\n",
       "         -2.74351834e-03],\n",
       "        [ 1.04079406e-02, -1.66150415e-02,  1.94804785e-02,\n",
       "         -6.20725472e-03,  5.74735596e-03, -1.01951570e-02,\n",
       "          9.49919726e-03,  6.62099932e-03, -1.48789700e-02,\n",
       "          4.41469216e-03],\n",
       "        [ 7.84493448e-03, -1.12226570e-02, -9.64457455e-03,\n",
       "         -1.86352516e-02, -2.50581856e-03, -1.88463757e-02,\n",
       "          9.14051219e-03, -5.77517941e-03,  2.03504593e-03,\n",
       "          4.61244732e-04],\n",
       "        [ 8.97437403e-03,  5.66748940e-03,  2.57270149e-03,\n",
       "         -2.72684407e-03, -5.05539589e-03, -1.25425946e-02,\n",
       "         -1.00948033e-03,  2.39377717e-03, -5.34354207e-03,\n",
       "          3.88769490e-03],\n",
       "        [-1.68314194e-02, -6.51006964e-03,  2.07173318e-02,\n",
       "          4.47033975e-03, -7.91583068e-03,  1.99407808e-03,\n",
       "          5.94636194e-03,  1.24854532e-03, -1.71708482e-03,\n",
       "         -4.15458225e-03],\n",
       "        [-4.16109099e-03, -1.68171988e-03, -2.16151200e-02,\n",
       "          1.22655623e-02,  5.31371078e-04, -7.45513937e-04,\n",
       "          1.06444543e-03,  3.65037654e-02,  1.06073859e-02,\n",
       "         -7.67416747e-03],\n",
       "        [ 1.20017197e-03, -4.58193109e-03,  1.03077210e-02,\n",
       "         -9.64112461e-03, -6.64729290e-03, -1.33758754e-02,\n",
       "          3.68273547e-03, -1.32625879e-02, -2.53363305e-03,\n",
       "         -2.80547189e-03],\n",
       "        [-1.38663805e-02,  1.50774340e-02,  6.04053836e-03,\n",
       "          1.20864036e-02,  6.50969340e-03,  4.27081236e-03,\n",
       "         -3.97754491e-03, -6.95891584e-03,  1.74615834e-03,\n",
       "         -1.63708761e-02],\n",
       "        [-1.15730125e-02,  3.13486408e-03,  9.66145548e-03,\n",
       "          1.27987842e-02,  2.27535893e-04,  1.10714489e-02,\n",
       "         -8.43355204e-03, -1.61778704e-03, -1.66843241e-02,\n",
       "         -7.92556461e-05],\n",
       "        [ 2.57498643e-03,  3.17262408e-03,  5.42209258e-03,\n",
       "         -3.27511990e-03,  1.68150764e-02, -4.51433136e-03,\n",
       "         -1.28228162e-02,  7.60952906e-03,  1.12689918e-02,\n",
       "         -7.17097614e-03],\n",
       "        [ 2.24931517e-03, -3.94026623e-03,  1.29751488e-02,\n",
       "          3.58097309e-03, -5.16341810e-04,  5.51746170e-04,\n",
       "          6.67006643e-03,  5.38205420e-03, -4.01567004e-04,\n",
       "          5.40664007e-03],\n",
       "        [ 1.61115703e-03,  3.83498036e-03, -1.19078001e-02,\n",
       "          1.77766612e-03, -9.16906816e-03, -4.12225451e-03,\n",
       "         -1.74633574e-02, -8.50315163e-03,  6.65727042e-03,\n",
       "          2.15832175e-04],\n",
       "        [-1.76569150e-02, -1.35814982e-02,  8.87240130e-03,\n",
       "         -8.02736791e-03, -7.87800949e-03, -6.56283620e-04,\n",
       "          7.11029096e-03, -1.91241365e-03,  8.59604832e-03,\n",
       "          7.52194470e-03],\n",
       "        [ 1.00469730e-03, -5.38777482e-03,  7.37751187e-03,\n",
       "         -1.20060529e-02,  6.79577494e-03, -3.44543336e-03,\n",
       "          1.21538786e-02,  8.25756477e-05, -9.61635062e-03,\n",
       "          1.29092370e-02],\n",
       "        [ 1.53832541e-03,  5.61920287e-03, -1.11123605e-02,\n",
       "          9.06730749e-03, -1.99265802e-03, -7.71827322e-03,\n",
       "          4.93654962e-03, -1.18131152e-02, -7.13574402e-03,\n",
       "          9.17259200e-03],\n",
       "        [ 1.68759988e-03,  9.28780123e-03, -7.23999157e-03,\n",
       "          4.03499318e-03,  1.14935872e-02,  1.58174452e-02,\n",
       "          1.72432931e-02,  7.81558198e-03,  5.64203452e-03,\n",
       "         -1.33226785e-02],\n",
       "        [-8.29097525e-05,  9.04794575e-03,  9.11395637e-03,\n",
       "          3.10125662e-03, -3.33910027e-03,  2.54383139e-03,\n",
       "         -2.42977387e-03, -1.18113223e-02, -1.46201682e-03,\n",
       "          5.68272753e-03],\n",
       "        [-9.10989683e-03, -5.15255236e-03,  1.21933679e-02,\n",
       "          2.33864016e-03,  1.12222815e-02, -3.93244527e-03,\n",
       "          1.40612331e-03,  2.47377443e-03, -1.49540918e-02,\n",
       "          1.38763716e-02],\n",
       "        [ 1.28944284e-02,  9.91054493e-03, -6.33821940e-03,\n",
       "         -5.62756644e-03,  2.34186873e-03, -7.90219712e-03,\n",
       "         -2.52758287e-02, -3.77911762e-03,  1.46080018e-02,\n",
       "         -1.13711073e-03],\n",
       "        [ 6.52158774e-03, -1.60817076e-02, -6.79404695e-03,\n",
       "         -9.02943694e-03, -5.61801716e-03, -4.27772236e-03,\n",
       "         -2.20151779e-03, -3.33904170e-03, -6.58646616e-03,\n",
       "          6.35225629e-03],\n",
       "        [-5.72463079e-04,  3.33919435e-03, -9.47922037e-03,\n",
       "         -2.14931376e-02,  1.58296154e-02,  2.33191454e-03,\n",
       "         -1.38624932e-02, -6.79417192e-03, -1.58777698e-03,\n",
       "         -4.33368668e-03],\n",
       "        [ 1.71363190e-03,  7.02669093e-03,  4.50408536e-03,\n",
       "          3.00341264e-03,  1.09676253e-02, -1.27301218e-02,\n",
       "         -2.53045324e-02, -4.10930890e-03,  4.89008610e-03,\n",
       "         -9.55960654e-03],\n",
       "        [ 1.32875779e-02,  6.07117330e-04, -1.67225885e-03,\n",
       "          1.58580515e-02,  2.40216586e-03,  1.10545230e-03,\n",
       "         -1.16169375e-02, -3.46672426e-03,  2.03088393e-03,\n",
       "          1.11008223e-02],\n",
       "        [-1.76660916e-03, -8.37689897e-03,  8.28983088e-03,\n",
       "          8.08099819e-03, -4.58017557e-04,  9.99929129e-03,\n",
       "          1.18478445e-02, -4.29450452e-03, -9.21298568e-03,\n",
       "         -2.10863042e-03],\n",
       "        [ 9.95578308e-03,  4.19019012e-03,  1.55257842e-02,\n",
       "         -1.70013217e-02,  4.14935228e-03, -1.60892233e-03,\n",
       "          4.17967477e-03, -1.52204164e-02,  1.09895440e-02,\n",
       "         -7.61324537e-03],\n",
       "        [-7.23401608e-03, -1.54746034e-02, -1.85160688e-02,\n",
       "         -5.64984519e-03,  4.32050242e-03, -1.42133910e-03,\n",
       "          2.05895014e-02, -1.41670694e-02, -1.62406079e-02,\n",
       "          8.16254868e-03],\n",
       "        [-4.55914407e-03,  1.21509863e-02,  6.56096999e-03,\n",
       "         -9.45207802e-03,  2.00777913e-03, -1.12518089e-02,\n",
       "          1.13513660e-03, -6.73158769e-03,  5.58504347e-03,\n",
       "          2.19529927e-02],\n",
       "        [ 2.26403642e-03,  1.18559051e-02, -1.71690139e-02,\n",
       "         -1.79757766e-04, -1.13283767e-02, -1.33936236e-02,\n",
       "         -2.69400103e-03,  1.41714892e-02,  1.14483717e-02,\n",
       "          1.55062392e-02],\n",
       "        [-5.58891575e-03, -5.64705341e-03, -2.05768625e-03,\n",
       "         -9.76974595e-03,  3.64238464e-03,  9.57283576e-03,\n",
       "         -4.65202965e-03, -1.14864393e-02,  1.60050916e-03,\n",
       "         -1.04171771e-02],\n",
       "        [ 4.22057328e-03, -5.61585417e-03, -1.37836671e-02,\n",
       "          1.66788231e-04,  2.29193985e-03,  1.75418506e-02,\n",
       "         -6.55305345e-03,  1.34145471e-02,  1.40395454e-03,\n",
       "         -5.96263074e-03],\n",
       "        [-3.56888536e-03,  5.22639437e-04, -1.84899802e-02,\n",
       "         -5.69342343e-03, -1.53705631e-03, -8.10138368e-03,\n",
       "          1.38954959e-02, -8.32290121e-04, -1.12161781e-03,\n",
       "          3.57765027e-04],\n",
       "        [ 3.75816269e-03,  1.41422106e-02, -4.89401655e-03,\n",
       "         -4.33412581e-03, -2.27275454e-03,  4.53745363e-03,\n",
       "          1.38566143e-02, -2.91974155e-03, -2.50285444e-02,\n",
       "          9.33656273e-03],\n",
       "        [ 2.63693705e-03,  3.55602845e-03, -1.91129701e-03,\n",
       "         -1.97537605e-03, -8.72253141e-03, -2.78693149e-02,\n",
       "          1.83205972e-02,  8.41915549e-04,  1.45742136e-02,\n",
       "          6.78675261e-03],\n",
       "        [-6.23552615e-03,  3.05538824e-03, -5.58919896e-03,\n",
       "         -8.75772369e-03,  4.97159430e-03, -1.26257761e-03,\n",
       "          9.68844426e-04,  9.36966215e-03, -1.05048420e-02,\n",
       "          4.46482156e-03],\n",
       "        [-2.37313747e-03, -1.22193876e-02,  1.14634954e-02,\n",
       "          5.69025760e-03,  8.16878272e-03, -1.23697378e-02,\n",
       "         -5.68201876e-03,  4.38959069e-03,  1.52646566e-02,\n",
       "          6.99340235e-03],\n",
       "        [-9.37011319e-03,  1.03319362e-02, -1.95093711e-04,\n",
       "         -6.50270437e-04,  9.33322123e-03, -2.50364693e-02,\n",
       "          1.38957117e-02, -1.41142088e-03,  1.23554911e-02,\n",
       "         -1.22966776e-03],\n",
       "        [-6.96307359e-03, -2.39654350e-02,  4.92718212e-03,\n",
       "         -1.33204687e-02,  1.01970908e-02,  6.88319575e-03,\n",
       "          8.86083730e-03,  2.28353460e-03,  6.61562894e-04,\n",
       "          1.54440637e-02],\n",
       "        [ 5.06981033e-03, -2.11331867e-02,  2.27716901e-03,\n",
       "         -3.00390109e-03, -7.46077705e-03, -1.12323865e-02,\n",
       "         -6.71935489e-04,  1.49058568e-03, -7.46467878e-03,\n",
       "         -4.13017994e-03],\n",
       "        [-6.89917660e-03,  6.03042715e-04,  1.31759085e-02,\n",
       "          1.73925771e-02, -1.58028314e-02,  1.49556613e-03,\n",
       "         -2.46567827e-03, -1.27035901e-02,  2.36315470e-03,\n",
       "          2.41041805e-02],\n",
       "        [ 6.02264931e-03,  1.23912066e-03, -9.25984177e-03,\n",
       "          3.29394403e-03,  5.70595700e-03,  3.57962784e-03,\n",
       "         -8.27497084e-04,  6.68834526e-03,  3.17161098e-04,\n",
       "          2.42911478e-04]]),\n",
       " 'b2': array([0., 0., 0., 0., 0., 0., 0., 0., 0., 0.])}"
      ]
     },
     "execution_count": 156,
     "metadata": {},
     "output_type": "execute_result"
    }
   ],
   "source": [
    "network.params # weights and biases of the network"
   ]
  },
  {
   "cell_type": "code",
   "execution_count": 166,
   "metadata": {},
   "outputs": [],
   "source": [
    "iterations = 10 #10000\n",
    "train_size = x_train[:100].shape[0]\n",
    "batch_size = 2 #100\n",
    "lr = 0.1\n",
    "\n",
    "iter_per_epoch = max(train_size/batch_size, 1)\n"
   ]
  },
  {
   "cell_type": "code",
   "execution_count": 167,
   "metadata": {},
   "outputs": [
    {
     "name": "stdout",
     "output_type": "stream",
     "text": [
      "50.0\n"
     ]
    }
   ],
   "source": [
    "print(iter_per_epoch)"
   ]
  },
  {
   "cell_type": "code",
   "execution_count": 168,
   "metadata": {},
   "outputs": [],
   "source": [
    "train_losses = []\n",
    "train_accs = []\n",
    "test_accs = []\n"
   ]
  },
  {
   "cell_type": "code",
   "execution_count": 169,
   "metadata": {},
   "outputs": [
    {
     "name": "stdout",
     "output_type": "stream",
     "text": [
      "train acc, test_acc : 0.09871666666666666, 0.098\n"
     ]
    }
   ],
   "source": [
    "for i in range(iterations): # training the network\n",
    "    batch_mask = np.random.choice(train_size, batch_size)\n",
    "    x_batch = x_train[batch_mask]\n",
    "    y_batch = y_train[batch_mask]\n",
    "\n",
    "    grads = network.numerical_gradient(x_batch, y_batch)\n",
    "\n",
    "    for key in ('w1', 'b1', 'w2', 'b2'):\n",
    "        network.params[key] -= lr*grads[key]\n",
    "\n",
    "    ## this is for plotting losses over time\n",
    "    train_losses.append(network.loss(x_batch, y_batch))\n",
    "\n",
    "    if i%int(iter_per_epoch) == 0:\n",
    "        train_acc = network.accuracy(x_train, y_train)\n",
    "        train_accs.append(train_acc)\n",
    "        test_acc = network.accuracy(x_test, y_test)\n",
    "        test_accs.append(test_acc)\n",
    "        print(f'train acc, test_acc : {train_acc}, {test_acc}')\n",
    "    "
   ]
  },
  {
   "cell_type": "markdown",
   "metadata": {},
   "source": [
    "### Accuracy graph"
   ]
  },
  {
   "cell_type": "code",
   "execution_count": 160,
   "metadata": {},
   "outputs": [
    {
     "data": {
      "image/png": "[encoded data removed]",
      "text/plain": [
       "<Figure size 432x288 with 1 Axes>"
      ]
     },
     "metadata": {},
     "output_type": "display_data"
    }
   ],
   "source": [
    "markers = {'train': 'o', 'test': 's'} # plotted for 10 outputs from the above and stopped the cell as it' taking too long to run\n",
    "x = np.arange(len(train_accs))\n",
    "plt.plot(x, train_accs, label='train acc')\n",
    "plt.plot(x, test_accs, label='test acc', linestyle='--')\n",
    "plt.xlabel(\"epochs\")\n",
    "plt.ylabel(\"accuracy\")\n",
    "plt.ylim(0, 1.0)\n",
    "plt.legend(loc='lower right')\n",
    "plt.show()\n"
   ]
  },
  {
   "cell_type": "markdown",
   "metadata": {},
   "source": [
    "## Backpropagation"
   ]
  },
  {
   "cell_type": "code",
   "execution_count": 170,
   "metadata": {},
   "outputs": [],
   "source": [
    "class Relu:\n",
    "    \"\"\"Implemenatation of the ReLU activation function.\"\"\"\n",
    "    def __init__(self):\n",
    "        self.mask = None\n",
    "\n",
    "    def forward(self, x):\n",
    "        \"\"\" Forward pass of the ReLU activation function.\"\"\"\n",
    "        self.mask = (x <= 0)\n",
    "        out = x.copy()\n",
    "        out[self.mask] = 0\n",
    "\n",
    "        return out\n",
    "\n",
    "    def backward(self, dout):\n",
    "        \"\"\" backward pass of the ReLU activation function.\"\"\"\n",
    "        dout[self.mask] = 0\n",
    "        dx = dout\n",
    "\n",
    "        return dx\n",
    "\n",
    "\n",
    "class Sigmoid:\n",
    "    \"\"\"Implementation of the Sigmoid activation function.\"\"\"\n",
    "    def __init__(self):\n",
    "        self.out = None\n",
    "        self.activations = Activations()\n",
    "\n",
    "    def forward(self, x):\n",
    "        \"\"\" forward pass of the Sigmoid activation function.\"\"\"\n",
    "        out = self.activations.sigmoid(x)\n",
    "        self.out = out\n",
    "        return out\n",
    "\n",
    "    def backward(self, dout):\n",
    "        \"\"\" backward pass of the Sigmoid activation function.\"\"\"\n",
    "        dx = dout * (1.0 - self.out) * self.out\n",
    "\n",
    "        return dx\n",
    "\n",
    "\n",
    "class Affine:\n",
    "    \"\"\" Implementation of the Affine layer in a neural network.\"\"\"\n",
    "    def __init__(self, w, b):\n",
    "        \"\"\" initializes the Affine layer with weights and biases.\"\"\"\n",
    "        self.w = w\n",
    "        self.b = b\n",
    "        \n",
    "        self.x = None\n",
    "        self.original_x_shape = None\n",
    "\n",
    "        self.dw = None\n",
    "        self.db = None\n",
    "\n",
    "    def forward(self, x):\n",
    "        \"\"\" forward pass of the Affine layer.\"\"\"\n",
    "        # \n",
    "        self.original_x_shape = x.shape\n",
    "        x = x.reshape(x.shape[0], -1)\n",
    "        self.x = x\n",
    "\n",
    "        out = np.dot(self.x, self.w) + self.b\n",
    "\n",
    "        return out\n",
    "\n",
    "    def backward(self, dout):\n",
    "        \"\"\" backward pass of the Affine layer.\"\"\"\n",
    "        dx = np.dot(dout, self.w.T)\n",
    "        self.dw = np.dot(self.x.T, dout)\n",
    "        self.db = np.sum(dout, axis=0)\n",
    "        \n",
    "        dx = dx.reshape(*self.original_x_shape)  \n",
    "        return dx\n",
    "\n",
    "\n",
    "class SoftmaxWithLoss:\n",
    "    \"\"\" Implementation of the Softmax activation function with cross-entropy loss.\"\"\"\n",
    "    def __init__(self):\n",
    "        self.loss = None \n",
    "        self.y_hat = None    \n",
    "        self.y = None    \n",
    "        self.activations = Activations()\n",
    "        self.errors = Errors()\n",
    "        \n",
    "    def forward(self, x, y):\n",
    "        \"\"\" forward pass of the Softmax function with cross-entropy loss.\"\"\"\n",
    "        self.y = y\n",
    "        self.y_hat = self.activations.softmax(x)\n",
    "        self.loss = self.errors.cross_entropy_error(self.y_hat, self.y)\n",
    "        \n",
    "        return self.loss\n",
    "\n",
    "    def backward(self, dout=1):\n",
    "        \"\"\" backward pass of the Softmax function with cross-entropy loss.\"\"\"\n",
    "        batch_size = self.y.shape[0]\n",
    "        #if self.y.size == self.y_hat.size: # one hot encoding\n",
    "        \n",
    "        dx = (self.y_hat - self.y) / batch_size\n",
    "        \n",
    "        \"\"\"\n",
    "        else:\n",
    "            dx = self.y_hat.copy()\n",
    "            dx[np.arange(batch_size), self.t] -= 1\n",
    "            dx = dx / batch_size\n",
    "        \"\"\"\n",
    "        return dx"
   ]
  },
  {
   "cell_type": "markdown",
   "metadata": {},
   "source": [
    "### Two Layer Net with Backpropagation"
   ]
  },
  {
   "cell_type": "code",
   "execution_count": 171,
   "metadata": {},
   "outputs": [],
   "source": [
    "import numpy as np\n",
    "from activations import Activations\n",
    "from errors import Errors"
   ]
  },
  {
   "cell_type": "code",
   "execution_count": 172,
   "metadata": {},
   "outputs": [],
   "source": [
    "from collections import OrderedDict"
   ]
  },
  {
   "cell_type": "code",
   "execution_count": 173,
   "metadata": {},
   "outputs": [],
   "source": [
    "class TwoLayerNetWithBackProp:\n",
    "    \"\"\"\n",
    "    A two-layer neural network with backpropagation.\n",
    "    The network has:\n",
    "        - One hidden layer with ReLU activation.\n",
    "        - One output layer with softmax and cross-entropy loss.\n",
    "    \"\"\"\n",
    "    def __init__(self, input_size, hidden_size, output_size, weight_init_std=0.01):\n",
    "        \"\"\" Initializes the two-layer neural network with specified sizes for the input,\n",
    "        hidden, and output layers. It also initializes the weights and biases. \"\"\"\n",
    "        self.params = {}\n",
    "\n",
    "        self.params['w1'] = weight_init_std*np.random.randn(input_size, hidden_size)\n",
    "        self.params['b1'] = np.zeros(hidden_size)\n",
    "\n",
    "        self.params['w2'] = weight_init_std*np.random.randn(hidden_size, output_size)\n",
    "        self.params['b2'] = np.zeros(output_size)\n",
    "\n",
    "        self.activations = Activations()\n",
    "        self.errors = Errors()\n",
    "\n",
    "        # add layers\n",
    "        self.layers = OrderedDict()\n",
    "        self.update_layers()\n",
    "        self.last_layer = SoftmaxWithLoss()\n",
    "\n",
    "\n",
    "    def update_layers(self):\n",
    "        \"\"\"\n",
    "        Updates the layers in the network. It includes:\n",
    "            - An affine layer (linear transformation) followed by ReLU for the hidden layer.\n",
    "            - An affine layer for the output layer.\n",
    "        \"\"\"\n",
    "        self.layers['Affine1'] = Affine(self.params['w1'], self.params['b1'])\n",
    "        self.layers['Rele1'] = Relu()\n",
    "        self.layers['Affine2'] = Affine(self.params['w2'], self.params['b2'])\n",
    "\n",
    "\n",
    "    def predict(self, x):\n",
    "        \"\"\" Performs a forward pass through the network and returns the predicted output. \"\"\"\n",
    "        ## new implementation for backprop\n",
    "        for layer in self.layers.values():\n",
    "            x = layer.forward(x)\n",
    "\n",
    "        y = x\n",
    "        return y\n",
    "    \n",
    "    def loss(self, x, y):\n",
    "        \"\"\" Computes the loss (cross-entropy) for a given input and true label. \"\"\"\n",
    "        y_hat = self.predict(x)\n",
    "\n",
    "        # return self.errors.cross_entropy_error(y_hat, y)\n",
    "        return self.last_layer.forward(y_hat, y)\n",
    "\n",
    "    def accuracy(self, x, y):\n",
    "        \"\"\" Calculates the accuracy of the network for a given input and true label. \"\"\"\n",
    "        y_hat = self.predict(x)\n",
    "        p = np.argmax(y_hat, axis=1)\n",
    "        y_p = np.argmax(y, axis=1)\n",
    "\n",
    "        return np.sum(p == y_p)/float(x.shape[0])\n",
    "    \n",
    "\n",
    "    def gradient(self, x, y):\n",
    "        \"\"\" Computes the gradient of the loss function with respect to the weights using backpropagation. \"\"\"\n",
    "        self.loss(x, y)\n",
    "\n",
    "        dout = 1\n",
    "        dout = self.last_layer.backward(dout)\n",
    "\n",
    "        layers = list(self.layers.values())\n",
    "        layers.reverse()\n",
    "        for layer in layers:\n",
    "            dout = layer.backward(dout)\n",
    "\n",
    "        grads = {}\n",
    "        grads['w1'] = self.layers['Affine1'].dw\n",
    "        grads['b1'] = self.layers['Affine1'].db\n",
    "        grads['w2'] = self.layers['Affine2'].dw\n",
    "        grads['b2'] = self.layers['Affine2'].db\n",
    "      \n",
    "        return grads"
   ]
  },
  {
   "cell_type": "code",
   "execution_count": 174,
   "metadata": {},
   "outputs": [],
   "source": [
    "from mnist_data import MnistData # importing the MnistData class from mnist_data.py"
   ]
  },
  {
   "cell_type": "code",
   "execution_count": 175,
   "metadata": {},
   "outputs": [
    {
     "name": "stdout",
     "output_type": "stream",
     "text": [
      "Pickle: dataset/mnist.pkl already exists.\n",
      "Loading...\n",
      "Done.\n"
     ]
    }
   ],
   "source": [
    "mnist = MnistData() # creating an object of the MnistData class"
   ]
  },
  {
   "cell_type": "code",
   "execution_count": 176,
   "metadata": {},
   "outputs": [],
   "source": [
    "(x_train, y_train), (x_test, y_test) = mnist.load() # loading the mnist data"
   ]
  },
  {
   "cell_type": "code",
   "execution_count": 177,
   "metadata": {},
   "outputs": [
    {
     "name": "stdout",
     "output_type": "stream",
     "text": [
      "(60000, 784)\n"
     ]
    }
   ],
   "source": [
    "print(x_train.shape) # shape of the training data"
   ]
  },
  {
   "cell_type": "code",
   "execution_count": 178,
   "metadata": {},
   "outputs": [],
   "source": [
    "network = TwoLayerNetWithBackProp(input_size=28*28, hidden_size=100, output_size=10) # creating an object of the TwoLayerNetWithBackProp class"
   ]
  },
  {
   "cell_type": "code",
   "execution_count": 179,
   "metadata": {},
   "outputs": [],
   "source": [
    "iterations = 10000 # number of iterations\n",
    "train_size = x_train.shape[0] # number of training images\n",
    "batch_size = 100 # batch size\n",
    "lr = 0.1 # learning rate\n",
    "\n",
    "iter_per_ecoph = max(train_size/batch_size, 1) # iterations per epoch\n"
   ]
  },
  {
   "cell_type": "code",
   "execution_count": 180,
   "metadata": {},
   "outputs": [],
   "source": [
    "train_losses = []\n",
    "train_accs = []\n",
    "test_accs = []"
   ]
  },
  {
   "cell_type": "markdown",
   "metadata": {},
   "source": [
    "### Training steps"
   ]
  },
  {
   "cell_type": "code",
   "execution_count": 181,
   "metadata": {},
   "outputs": [
    {
     "name": "stdout",
     "output_type": "stream",
     "text": [
      "train acc, test_acc : 0.13263333333333333, 0.1423\n",
      "train acc, test_acc : 0.9073666666666667, 0.9096\n",
      "train acc, test_acc : 0.9246, 0.927\n",
      "train acc, test_acc : 0.9396, 0.9392\n",
      "train acc, test_acc : 0.95015, 0.9482\n",
      "train acc, test_acc : 0.9558333333333333, 0.953\n",
      "train acc, test_acc : 0.9606166666666667, 0.9555\n",
      "train acc, test_acc : 0.9656666666666667, 0.9602\n",
      "train acc, test_acc : 0.96795, 0.9637\n",
      "train acc, test_acc : 0.97115, 0.9671\n",
      "train acc, test_acc : 0.97375, 0.9672\n",
      "train acc, test_acc : 0.9759333333333333, 0.9706\n",
      "train acc, test_acc : 0.97755, 0.9707\n",
      "train acc, test_acc : 0.9796333333333334, 0.9737\n",
      "train acc, test_acc : 0.97855, 0.9721\n",
      "train acc, test_acc : 0.9820333333333333, 0.973\n",
      "train acc, test_acc : 0.9832166666666666, 0.9744\n"
     ]
    }
   ],
   "source": [
    "for i in range(iterations): # training the network\n",
    "    batch_mask = np.random.choice(train_size, batch_size)\n",
    "    x_batch = x_train[batch_mask]\n",
    "    y_batch = y_train[batch_mask]\n",
    "\n",
    "    grads = network.gradient(x_batch, y_batch)\n",
    "\n",
    "    for key in ('w1', 'b1', 'w2', 'b2'):\n",
    "        network.params[key] -= lr*grads[key]\n",
    "\n",
    "    ## this is for plotting losses over time\n",
    "    train_losses.append(network.loss(x_batch, y_batch))\n",
    "\n",
    "    if i%iter_per_ecoph == 0:\n",
    "        train_acc = network.accuracy(x_train, y_train)\n",
    "        train_accs.append(train_acc)\n",
    "        test_acc = network.accuracy(x_test, y_test)\n",
    "        test_accs.append(test_acc)\n",
    "        print(f'train acc, test_acc : {train_acc}, {test_acc}')\n",
    "    "
   ]
  },
  {
   "cell_type": "markdown",
   "metadata": {},
   "source": [
    "### Accuracy graph"
   ]
  },
  {
   "cell_type": "code",
   "execution_count": 182,
   "metadata": {},
   "outputs": [
    {
     "data": {
      "image/png": "[encoded data removed]",
      "text/plain": [
       "<Figure size 432x288 with 1 Axes>"
      ]
     },
     "metadata": {},
     "output_type": "display_data"
    }
   ],
   "source": [
    "markers = {'train': 'o', 'test': 's'}\n",
    "x = np.arange(len(train_accs))\n",
    "plt.plot(x, train_accs, label='train acc')\n",
    "plt.plot(x, test_accs, label='test acc', linestyle='--')\n",
    "plt.xlabel(\"epochs\")\n",
    "plt.ylabel(\"accuracy\")\n",
    "plt.ylim(0, 1.0)\n",
    "plt.legend(loc='lower right')\n",
    "plt.show()"
   ]
  },
  {
   "cell_type": "code",
   "execution_count": 183,
   "metadata": {},
   "outputs": [],
   "source": [
    "import numpy as np\n",
    "import pickle\n",
    "\n",
    "my_weight_pkl_file = 'kolluru_mnist_model.pkl' "
   ]
  },
  {
   "cell_type": "code",
   "execution_count": 184,
   "metadata": {},
   "outputs": [
    {
     "name": "stdout",
     "output_type": "stream",
     "text": [
      "Pickle: kolluru_mnist_model.pkl is being created.\n",
      "Done.\n"
     ]
    }
   ],
   "source": [
    "\n",
    "\n",
    "with open(f'{my_weight_pkl_file}', 'wb') as f: # saving the weights of the network\n",
    "    print(f'Pickle: {my_weight_pkl_file} is being created.')\n",
    "    pickle.dump(network.params, f)\n",
    "    print('Done.') \n"
   ]
  },
  {
   "cell_type": "code",
   "execution_count": 185,
   "metadata": {},
   "outputs": [],
   "source": [
    "network.params = None # removing the weights of the network"
   ]
  },
  {
   "cell_type": "markdown",
   "metadata": {},
   "source": [
    "### Using your own TwoLayerNet model"
   ]
  },
  {
   "cell_type": "code",
   "execution_count": 186,
   "metadata": {},
   "outputs": [],
   "source": [
    "network = TwoLayerNetWithBackProp(input_size=28*28, hidden_size=100, output_size=10) # creating an object of the TwoLayerNetWithBackProp class"
   ]
  },
  {
   "cell_type": "code",
   "execution_count": 187,
   "metadata": {},
   "outputs": [],
   "source": [
    "with open(f'{my_weight_pkl_file}', 'rb') as f:\n",
    "    network.params = pickle.load(f)\n",
    "\n",
    "network.update_layers() # updating the layers of the network"
   ]
  },
  {
   "cell_type": "code",
   "execution_count": 188,
   "metadata": {},
   "outputs": [],
   "source": [
    "from mnist_data import MnistData"
   ]
  },
  {
   "cell_type": "code",
   "execution_count": 189,
   "metadata": {},
   "outputs": [
    {
     "name": "stdout",
     "output_type": "stream",
     "text": [
      "Pickle: dataset/mnist.pkl already exists.\n",
      "Loading...\n",
      "Done.\n"
     ]
    }
   ],
   "source": [
    "mnist = MnistData()\n",
    "(_, _), (x_test, y_test) = mnist.load() # loading the mnist data"
   ]
  },
  {
   "cell_type": "code",
   "execution_count": 190,
   "metadata": {},
   "outputs": [],
   "source": [
    "y_hat = network.predict(x_test[0:100]) # prediction of the network\n"
   ]
  },
  {
   "cell_type": "code",
   "execution_count": 191,
   "metadata": {},
   "outputs": [],
   "source": [
    "import matplotlib.pyplot as plt"
   ]
  },
  {
   "cell_type": "code",
   "execution_count": 192,
   "metadata": {},
   "outputs": [
    {
     "data": {
      "text/plain": [
       "<matplotlib.image.AxesImage at 0x1705936fa00>"
      ]
     },
     "execution_count": 192,
     "metadata": {},
     "output_type": "execute_result"
    },
    {
     "data": {
      "image/png": "[encoded data removed]",
      "text/plain": [
       "<Figure size 432x288 with 1 Axes>"
      ]
     },
     "metadata": {},
     "output_type": "display_data"
    }
   ],
   "source": [
    "plt.imshow(x_test[10].reshape(28,28)) # displaying the image"
   ]
  },
  {
   "cell_type": "code",
   "execution_count": 193,
   "metadata": {},
   "outputs": [
    {
     "data": {
      "text/plain": [
       "array([12.04469713, -3.49668219,  5.01952293, -0.91343689, -6.93159854,\n",
       "       -0.37976285, -1.07778246, -2.12899779, -4.740167  ,  2.28737169])"
      ]
     },
     "execution_count": 193,
     "metadata": {},
     "output_type": "execute_result"
    }
   ],
   "source": [
    "y_hat[10]"
   ]
  },
  {
   "cell_type": "code",
   "execution_count": 194,
   "metadata": {},
   "outputs": [
    {
     "data": {
      "text/plain": [
       "array([12.04469713, -3.49668219,  5.01952293, -0.91343689, -6.93159854,\n",
       "       -0.37976285, -1.07778246, -2.12899779, -4.740167  ,  2.28737169])"
      ]
     },
     "execution_count": 194,
     "metadata": {},
     "output_type": "execute_result"
    }
   ],
   "source": [
    "y_hat[10]"
   ]
  },
  {
   "cell_type": "code",
   "execution_count": 195,
   "metadata": {},
   "outputs": [
    {
     "data": {
      "text/plain": [
       "0"
      ]
     },
     "execution_count": 195,
     "metadata": {},
     "output_type": "execute_result"
    }
   ],
   "source": [
    "np.argmax(y_hat[10])"
   ]
  },
  {
   "cell_type": "code",
   "execution_count": 196,
   "metadata": {},
   "outputs": [
    {
     "data": {
      "text/plain": [
       "0"
      ]
     },
     "execution_count": 196,
     "metadata": {},
     "output_type": "execute_result"
    }
   ],
   "source": [
    "np.argmax(y_test[10])"
   ]
  },
  {
   "cell_type": "markdown",
   "metadata": {},
   "source": [
    "### Using Handwritten images to test twolayernetwithbackprop"
   ]
  },
  {
   "cell_type": "code",
   "execution_count": 197,
   "metadata": {},
   "outputs": [
    {
     "name": "stdout",
     "output_type": "stream",
     "text": [
      "Testing 0_0.png...\n",
      "Figure(640x480)\n",
      "Success: Image 0_0.png is for digit 0 and recognized as 0.\n",
      "Testing 0_1.png...\n",
      "Figure(640x480)\n",
      "Success: Image 0_1.png is for digit 0 and recognized as 0.\n",
      "Testing 0_2.png...\n",
      "Figure(640x480)\n",
      "Success: Image 0_2.png is for digit 0 and recognized as 0.\n",
      "Testing 0_3.png...\n",
      "Figure(640x480)\n",
      "Success: Image 0_3.png is for digit 0 and recognized as 0.\n",
      "Testing 0_4.png...\n",
      "Figure(640x480)\n",
      "Success: Image 0_4.png is for digit 0 and recognized as 0.\n",
      "Testing 1_0.png...\n",
      "Figure(640x480)\n",
      "Success: Image 1_0.png is for digit 1 and recognized as 1.\n",
      "Testing 1_1.png...\n",
      "Figure(640x480)\n",
      "Success: Image 1_1.png is for digit 1 and recognized as 1.\n",
      "Testing 1_2.png...\n",
      "Figure(640x480)\n",
      "Success: Image 1_2.png is for digit 1 and recognized as 1.\n",
      "Testing 1_3.png...\n",
      "Figure(640x480)\n",
      "Success: Image 1_3.png is for digit 1 and recognized as 1.\n",
      "Testing 1_4.png...\n",
      "Figure(640x480)\n",
      "Success: Image 1_4.png is for digit 1 and recognized as 1.\n",
      "Testing 2_0.png...\n",
      "Figure(640x480)\n",
      "Success: Image 2_0.png is for digit 2 and recognized as 2.\n",
      "Testing 2_1.png...\n",
      "Figure(640x480)\n",
      "Fail: Image 2_1.png is for digit 2 but the inference result is 8.\n",
      "Testing 2_2.png...\n",
      "Figure(640x480)\n",
      "Success: Image 2_2.png is for digit 2 and recognized as 2.\n",
      "Testing 2_3.png...\n",
      "Figure(640x480)\n",
      "Success: Image 2_3.png is for digit 2 and recognized as 2.\n",
      "Testing 2_4.png...\n",
      "Figure(640x480)\n",
      "Success: Image 2_4.png is for digit 2 and recognized as 2.\n",
      "Testing 3_0.png...\n",
      "Figure(640x480)\n",
      "Success: Image 3_0.png is for digit 3 and recognized as 3.\n",
      "Testing 3_1.png...\n",
      "Figure(640x480)\n",
      "Success: Image 3_1.png is for digit 3 and recognized as 3.\n",
      "Testing 3_2.png...\n",
      "Figure(640x480)\n",
      "Success: Image 3_2.png is for digit 3 and recognized as 3.\n",
      "Testing 3_3.png...\n",
      "Figure(640x480)\n",
      "Success: Image 3_3.png is for digit 3 and recognized as 3.\n",
      "Testing 3_4.png...\n",
      "Figure(640x480)\n",
      "Success: Image 3_4.png is for digit 3 and recognized as 3.\n",
      "Testing 4_0.png...\n",
      "Figure(640x480)\n",
      "Success: Image 4_0.png is for digit 4 and recognized as 4.\n",
      "Testing 4_1.png...\n",
      "Figure(640x480)\n",
      "Success: Image 4_1.png is for digit 4 and recognized as 4.\n",
      "Testing 4_2.png...\n",
      "Figure(640x480)\n",
      "Success: Image 4_2.png is for digit 4 and recognized as 4.\n",
      "Testing 4_3.png...\n",
      "Figure(640x480)\n",
      "Success: Image 4_3.png is for digit 4 and recognized as 4.\n",
      "Testing 4_4.png...\n",
      "Figure(640x480)\n",
      "Success: Image 4_4.png is for digit 4 and recognized as 4.\n",
      "Testing 5_0.png...\n",
      "Figure(640x480)\n",
      "Success: Image 5_0.png is for digit 5 and recognized as 5.\n",
      "Testing 5_1.png...\n",
      "Figure(640x480)\n",
      "Success: Image 5_1.png is for digit 5 and recognized as 5.\n",
      "Testing 5_2.png...\n",
      "Figure(640x480)\n",
      "Success: Image 5_2.png is for digit 5 and recognized as 5.\n",
      "Testing 5_3.png...\n",
      "Figure(640x480)\n",
      "Success: Image 5_3.png is for digit 5 and recognized as 5.\n",
      "Testing 5_4.png...\n",
      "Figure(640x480)\n",
      "Success: Image 5_4.png is for digit 5 and recognized as 5.\n",
      "Testing 6_0.png...\n",
      "Figure(640x480)\n",
      "Success: Image 6_0.png is for digit 6 and recognized as 6.\n",
      "Testing 6_1.png...\n",
      "Figure(640x480)\n",
      "Success: Image 6_1.png is for digit 6 and recognized as 6.\n",
      "Testing 6_2.png...\n",
      "Figure(640x480)\n",
      "Success: Image 6_2.png is for digit 6 and recognized as 6.\n",
      "Testing 6_3.png...\n",
      "Figure(640x480)\n",
      "Success: Image 6_3.png is for digit 6 and recognized as 6.\n",
      "Testing 6_4.png...\n",
      "Figure(640x480)\n",
      "Success: Image 6_4.png is for digit 6 and recognized as 6.\n",
      "Testing 7_0.png...\n",
      "Figure(640x480)\n",
      "Fail: Image 7_0.png is for digit 7 but the inference result is 3.\n",
      "Testing 7_1.png...\n",
      "Figure(640x480)\n",
      "Fail: Image 7_1.png is for digit 7 but the inference result is 3.\n",
      "Testing 7_2.png...\n",
      "Figure(640x480)\n",
      "Fail: Image 7_2.png is for digit 7 but the inference result is 3.\n",
      "Testing 7_3.png...\n",
      "Figure(640x480)\n",
      "Fail: Image 7_3.png is for digit 7 but the inference result is 9.\n",
      "Testing 7_4.png...\n",
      "Figure(640x480)\n",
      "Fail: Image 7_4.png is for digit 7 but the inference result is 9.\n",
      "Testing 8_0.png...\n",
      "Figure(640x480)\n",
      "Success: Image 8_0.png is for digit 8 and recognized as 8.\n",
      "Testing 8_1.png...\n",
      "Figure(640x480)\n",
      "Fail: Image 8_1.png is for digit 8 but the inference result is 3.\n",
      "Testing 8_2.png...\n",
      "Figure(640x480)\n",
      "Success: Image 8_2.png is for digit 8 and recognized as 8.\n",
      "Testing 8_3.png...\n",
      "Figure(640x480)\n",
      "Success: Image 8_3.png is for digit 8 and recognized as 8.\n",
      "Testing 8_4.png...\n",
      "Figure(640x480)\n",
      "Success: Image 8_4.png is for digit 8 and recognized as 8.\n",
      "Testing 9_0.png...\n",
      "Figure(640x480)\n",
      "Fail: Image 9_0.png is for digit 9 but the inference result is 3.\n",
      "Testing 9_1.png...\n",
      "Figure(640x480)\n",
      "Fail: Image 9_1.png is for digit 9 but the inference result is 3.\n",
      "Testing 9_2.png...\n",
      "Figure(640x480)\n",
      "Fail: Image 9_2.png is for digit 9 but the inference result is 7.\n",
      "Testing 9_3.png...\n",
      "Figure(640x480)\n",
      "Success: Image 9_3.png is for digit 9 and recognized as 9.\n",
      "Testing 9_4.png...\n",
      "Figure(640x480)\n",
      "Fail: Image 9_4.png is for digit 9 but the inference result is 8.\n"
     ]
    }
   ],
   "source": [
    "import os\n",
    "\n",
    "# Directory with images \n",
    "image_dir = \"./\"\n",
    "\n",
    "# Loop to test each handwritten digit image\n",
    "for digit in range(10):\n",
    "    for index in range(5):  # since there are five images per digit\n",
    "        filename = f\"{digit}_{index}.png\"\n",
    "        filepath = os.path.join(image_dir, filename)\n",
    "        if os.path.exists(filepath):\n",
    "            print(f\"Testing {filename}...\")\n",
    "            # Running the Python script with image filename and correct digit as arguments\n",
    "            !python module6.py {filename} {digit}\n",
    "        else:\n",
    "            print(f\"{filename} not found.\")"
   ]
  },
  {
   "cell_type": "code",
   "execution_count": null,
   "metadata": {},
   "outputs": [],
   "source": []
  }
 ],
 "metadata": {
  "kernelspec": {
   "display_name": "ece5831-2024",
   "language": "python",
   "name": "python3"
  },
  "language_info": {
   "codemirror_mode": {
    "name": "ipython",
    "version": 3
   },
   "file_extension": ".py",
   "mimetype": "text/x-python",
   "name": "python",
   "nbconvert_exporter": "python",
   "pygments_lexer": "ipython3",
   "version": "3.9.12"
  }
 },
 "nbformat": 4,
 "nbformat_minor": 2
}
