{
 "cells": [
  {
   "cell_type": "markdown",
   "metadata": {},
   "source": [
    "### Softmax function"
   ]
  },
  {
   "cell_type": "code",
   "execution_count": 1,
   "metadata": {},
   "outputs": [],
   "source": [
    "import numpy as np\n",
    "\n",
    "def softmax(a):\n",
    "    c = np.max(a)\n",
    "    exp_a = np.exp(a - c)  # subtracting the max value prevents overflow\n",
    "    return exp_a / np.sum(exp_a)\n",
    "\n"
   ]
  },
  {
   "cell_type": "markdown",
   "metadata": {},
   "source": [
    "### with example"
   ]
  },
  {
   "cell_type": "code",
   "execution_count": 2,
   "metadata": {},
   "outputs": [
    {
     "name": "stdout",
     "output_type": "stream",
     "text": [
      "[3.72007598e-44 1.00000000e+00]\n"
     ]
    }
   ],
   "source": [
    "a = np.array([900, 1000]) #input to use for softmax function\n",
    "s = softmax(a)\n",
    "print(s)"
   ]
  },
  {
   "cell_type": "markdown",
   "metadata": {},
   "source": [
    "### Softmax without overflowing issue"
   ]
  },
  {
   "cell_type": "code",
   "execution_count": 3,
   "metadata": {},
   "outputs": [],
   "source": [
    "import numpy as np\n",
    "\n",
    "def softmax(x):\n",
    "    \"\"\"\n",
    "    Compute the softmax of vector x in a numerically stable way.\n",
    "    \n",
    "    Parameters:\n",
    "    x (ndarray): Input array, can be a 1D or 2D array.\n",
    "    \n",
    "    Returns:\n",
    "    ndarray: Softmax output.\n",
    "    \"\"\"\n",
    "    # Subtract the max value for numerical stability\n",
    "    c = np.max(x, axis=-1, keepdims=True)  # Find max value for each row\n",
    "    exp_x = np.exp(x - c)  # Subtract max value from each element before exp\n",
    "    sum_exp_x = np.sum(exp_x, axis=-1, keepdims=True)  # Sum of exponentials\n",
    "    return exp_x / sum_exp_x  # Normalize by the sum\n",
    "\n",
    "\n",
    "\n"
   ]
  },
  {
   "cell_type": "markdown",
   "metadata": {},
   "source": [
    "### with example"
   ]
  },
  {
   "cell_type": "code",
   "execution_count": 4,
   "metadata": {},
   "outputs": [
    {
     "name": "stdout",
     "output_type": "stream",
     "text": [
      "Input: [1000. 1001.  999.]\n",
      "Softmax output: [0.24472847 0.66524096 0.09003057]\n"
     ]
    }
   ],
   "source": [
    "a = np.array([1000.0, 1001.0, 999.0])  # Example input to check\n",
    "softmax_output = softmax(a)\n",
    "\n",
    "print(\"Input:\", a)\n",
    "print(\"Softmax output:\", softmax_output)"
   ]
  },
  {
   "cell_type": "code",
   "execution_count": 5,
   "metadata": {},
   "outputs": [],
   "source": [
    "import urllib\n",
    "import gzip\n",
    "import numpy as np\n",
    "import pickle\n",
    "import os"
   ]
  },
  {
   "cell_type": "code",
   "execution_count": 15,
   "metadata": {},
   "outputs": [],
   "source": [
    "image_size = 28*28\n",
    "dataset_dir = 'dataset'\n",
    "dataset_pkl = 'mnist.pkl'\n",
    "url_base = 'http://jrkwon.com/data/ece5831/mnist/' "
   ]
  },
  {
   "cell_type": "markdown",
   "metadata": {},
   "source": [
    "### _download and _download_all"
   ]
  },
  {
   "cell_type": "code",
   "execution_count": 36,
   "metadata": {},
   "outputs": [
    {
     "name": "stdout",
     "output_type": "stream",
     "text": [
      "All files downloaded successfully!\n"
     ]
    }
   ],
   "source": [
    "import os\n",
    "import urllib.request\n",
    "\n",
    "# Base URL for the MNIST dataset\n",
    "url_base = 'http://jrkwon.com/data/ece5831/mnist/'\n",
    "\n",
    "# Create the directory if it doesn't exist\n",
    "dataset_dir = 'dataset'\n",
    "if not os.path.exists(dataset_dir):\n",
    "    os.makedirs(dataset_dir)\n",
    "\n",
    "# Dictionary with filenames for MNIST dataset\n",
    "key_file = {\n",
    "    'train_images': 'train-images-idx3-ubyte.gz',\n",
    "    'train_labels': 'train-labels-idx1-ubyte.gz',\n",
    "    'test_images':  't10k-images-idx3-ubyte.gz',\n",
    "    'test_labels':  't10k-labels-idx1-ubyte.gz'\n",
    "}\n",
    "# Download each file\n",
    "for key, file_name in key_file.items():\n",
    "    file_path = url_base + file_name\n",
    "    print(f\"Downloading {file_name}...\")\n",
    "    \n",
    "    # Download the file and save it in the dataset directory\n",
    "    urllib.request.urlretrieve(file_path, os.path.join(dataset_dir, file_name))\n",
    "\n",
    "print(\"All files downloaded successfully!\")\n",
    "\n"
   ]
  },
  {
   "cell_type": "markdown",
   "metadata": {},
   "source": [
    "### _load_images, _load_labels"
   ]
  },
  {
   "cell_type": "code",
   "execution_count": 38,
   "metadata": {},
   "outputs": [
    {
     "name": "stdout",
     "output_type": "stream",
     "text": [
      "Test Images Shape: (10000, 784)\n",
      "Test Labels Shape: (10000,)\n"
     ]
    }
   ],
   "source": [
    "import gzip\n",
    "import numpy as np\n",
    "\n",
    "image_size = 28 * 28\n",
    "\n",
    "def _load_images(file_name):\n",
    "    with gzip.open(file_name, 'rb') as f:\n",
    "        images = np.frombuffer(f.read(), np.uint8, offset=16)\n",
    "    images = images.reshape(-1, image_size)\n",
    "    return images\n",
    "\n",
    "def _load_labels(file_name):\n",
    "    with gzip.open(file_name, 'rb') as f:\n",
    "        labels = np.frombuffer(f.read(), np.uint8, offset=8)\n",
    "    return labels\n",
    "\n",
    "# Example test\n",
    "test_images = _load_images(os.path.join(dataset_dir, key_file['test_images']))\n",
    "test_labels = _load_labels(os.path.join(dataset_dir, key_file['test_labels']))\n",
    "print(f\"Test Images Shape: {test_images.shape}\")\n",
    "print(f\"Test Labels Shape: {test_labels.shape}\")\n"
   ]
  },
  {
   "cell_type": "markdown",
   "metadata": {},
   "source": [
    "### Show the loaded images and labels are proper by displaying at least one image and label."
   ]
  },
  {
   "cell_type": "code",
   "execution_count": 39,
   "metadata": {},
   "outputs": [
    {
     "data": {
      "image/png": "[encoded data removed]",
      "text/plain": [
       "<Figure size 640x480 with 1 Axes>"
      ]
     },
     "metadata": {},
     "output_type": "display_data"
    }
   ],
   "source": [
    "# Function to load the dataset and display an image and its corresponding label\n",
    "import matplotlib.pyplot as plt\n",
    "\n",
    "# Load the dataset from the pickle file\n",
    "with open(f'{dataset_dir}/mnist.pkl', 'rb') as f:\n",
    "    dataset = pickle.load(f)\n",
    "\n",
    "# Get the first image and label from the train dataset\n",
    "first_image = dataset['train_images'][0]\n",
    "first_label = dataset['train_labels'][0]\n",
    "\n",
    "# Display the image\n",
    "plt.imshow(first_image.reshape(28, 28), cmap='gray')\n",
    "plt.title(f\"Label: {first_label}\")\n",
    "plt.show()\n"
   ]
  },
  {
   "cell_type": "markdown",
   "metadata": {},
   "source": [
    "### Creating dataset"
   ]
  },
  {
   "cell_type": "code",
   "execution_count": 40,
   "metadata": {},
   "outputs": [
    {
     "name": "stdout",
     "output_type": "stream",
     "text": [
      "Creating Pickle: dataset/mnist.pkl\n",
      "Done\n"
     ]
    }
   ],
   "source": [
    "import pickle\n",
    "\n",
    "def _create_dataset():\n",
    "    dataset = {}\n",
    "    dataset['train_images'] = _load_images(os.path.join(dataset_dir, key_file['train_images']))\n",
    "    dataset['train_labels'] = _load_labels(os.path.join(dataset_dir, key_file['train_labels']))\n",
    "    dataset['test_images'] = _load_images(os.path.join(dataset_dir, key_file['test_images']))\n",
    "    dataset['test_labels'] = _load_labels(os.path.join(dataset_dir, key_file['test_labels']))\n",
    "    \n",
    "    with open(f'{dataset_dir}/mnist.pkl', 'wb') as f:\n",
    "        print(f'Creating Pickle: {dataset_dir}/mnist.pkl')\n",
    "        pickle.dump(dataset, f)\n",
    "        print('Done')\n",
    "\n",
    "# Example\n",
    "_create_dataset()\n"
   ]
  },
  {
   "cell_type": "markdown",
   "metadata": {},
   "source": [
    "### _change_one_hot_label()"
   ]
  },
  {
   "cell_type": "code",
   "execution_count": 41,
   "metadata": {},
   "outputs": [],
   "source": [
    "def _change_one_hot_label(y, num_class):\n",
    "    t = np.zeros((y.size, num_class))\n",
    "    for idx, row in enumerate(t):\n",
    "        row[y[idx]] = 1\n",
    "    return t\n",
    "\n",
    "\n"
   ]
  },
  {
   "cell_type": "markdown",
   "metadata": {},
   "source": [
    "### example of one_hot_encoded result"
   ]
  },
  {
   "cell_type": "code",
   "execution_count": 42,
   "metadata": {},
   "outputs": [
    {
     "name": "stdout",
     "output_type": "stream",
     "text": [
      "[[0. 1. 0. 0. 0. 0. 0. 0. 0. 0.]\n",
      " [1. 0. 0. 0. 0. 0. 0. 0. 0. 0.]\n",
      " [0. 0. 0. 0. 0. 0. 0. 0. 0. 1.]\n",
      " [0. 0. 0. 0. 0. 0. 0. 0. 1. 0.]]\n"
     ]
    }
   ],
   "source": [
    "\n",
    "labels = np.array([1, 0, 9, 8])\n",
    "one_hot_labels = _change_one_hot_label(labels, 10)\n",
    "print(one_hot_labels)"
   ]
  },
  {
   "cell_type": "markdown",
   "metadata": {},
   "source": [
    "### MnistData class with inclusion of __init__dataset()"
   ]
  },
  {
   "cell_type": "code",
   "execution_count": 43,
   "metadata": {},
   "outputs": [],
   "source": [
    "class MnistData:\n",
    "    \"\"\"\n",
    "    A class to handle the MNIST dataset, including downloading, loading, and processing the data.\n",
    "    \n",
    "    Attributes:\n",
    "    -----------\n",
    "    image_dim : tuple\n",
    "        Dimensions of each image in the MNIST dataset (28x28 pixels).\n",
    "    image_size : int\n",
    "        Total number of pixels per image (28 * 28).\n",
    "    dataset_dir : str\n",
    "        Directory where the dataset files will be stored.\n",
    "    dataset_pkl : str\n",
    "        Filename for the serialized dataset in pickle format.\n",
    "    url_base : str\n",
    "        Base URL for downloading the MNIST dataset.\n",
    "    key_file : dict\n",
    "        Dictionary mapping dataset types (train/test images and labels) to their respective filenames.\n",
    "    dataset : dict\n",
    "        Stores the MNIST data, including images and labels for training and testing.\n",
    "    dataset_pkl_path : str\n",
    "        The full path to the pickle file where the dataset is stored.\n",
    "    \"\"\"\n",
    "    image_dim = (28, 28)\n",
    "    image_size = image_dim[0] * image_dim[1]\n",
    "    dataset_dir = 'dataset'\n",
    "    dataset_pkl = 'mnist.pkl'\n",
    "    url_base = 'http://jrkwon.com/data/ece5831/mnist/'\n",
    "\n",
    "    key_file = {\n",
    "        'train_images': 'train-images-idx3-ubyte.gz',\n",
    "        'train_labels': 'train-labels-idx1-ubyte.gz',\n",
    "        'test_images': 't10k-images-idx3-ubyte.gz',\n",
    "        'test_labels': 't10k-labels-idx1-ubyte.gz'\n",
    "    }\n",
    "\n",
    "    def __init__(self):\n",
    "        \"\"\"\n",
    "        Initializes the MnistData object. Sets up the dataset directory, initializes the dataset,\n",
    "        and ensures that the necessary files are downloaded and loaded into memory.\n",
    "        \"\"\"\n",
    "        self.dataset = {}\n",
    "        self.dataset_pkl_path = os.path.join(self.dataset_dir, self.dataset_pkl)\n",
    "        if not os.path.exists(self.dataset_dir):\n",
    "            os.mkdir(self.dataset_dir)\n",
    "        self._init_dataset()\n",
    "\n",
    "    def _download(self, file_name):\n",
    "        \"\"\"\n",
    "        Downloads a MNIST dataset file if it does not already exist in the dataset directory.\n",
    "        \n",
    "        Parameters:\n",
    "        -----------\n",
    "        file_name : str\n",
    "            The name of the file to download.\n",
    "        \"\"\"\n",
    "        file_path = os.path.join(self.dataset_dir, file_name)\n",
    "        if os.path.exists(file_path):\n",
    "            print(f\"File: {file_name} already exists.\")\n",
    "            return\n",
    "        print(f\"Downloading {file_name}...\")\n",
    "        opener = urllib.request.build_opener()\n",
    "        opener.addheaders = [('Accept', '')]\n",
    "        urllib.request.install_opener(opener)\n",
    "        urllib.request.urlretrieve(self.url_base + file_name, file_path)\n",
    "        print(\"Done\")\n",
    "\n",
    "    def _download_all(self):\n",
    "        \"\"\"\n",
    "        Downloads all required MNIST dataset files (train/test images and labels).\n",
    "        \"\"\"\n",
    "        for file_name in self.key_file.values():\n",
    "            self._download(file_name)\n",
    "\n",
    "    def _load_images(self, file_name):\n",
    "        \"\"\"\n",
    "        Loads and processes MNIST images from a gzipped file.\n",
    "        \n",
    "        Parameters:\n",
    "        -----------\n",
    "        file_name : str\n",
    "            The name of the file containing the image data.\n",
    "            \n",
    "        Returns:\n",
    "        --------\n",
    "        np.ndarray\n",
    "            A NumPy array containing the reshaped image data.\n",
    "        \"\"\"\n",
    "        with gzip.open(file_name, 'rb') as f:\n",
    "            images = np.frombuffer(f.read(), np.uint8, offset=16)\n",
    "        return images.reshape(-1, self.image_size)\n",
    "\n",
    "    def _load_labels(self, file_name):\n",
    "        \"\"\"\n",
    "        Loads MNIST labels \n",
    "        Parameters:\n",
    "        -----------\n",
    "        file_name : str\n",
    "            The name of the file containing the label data.\n",
    "            \n",
    "        Returns:\n",
    "        --------\n",
    "        np.ndarray\n",
    "            A NumPy array containing the label data.\n",
    "        \"\"\"\n",
    "        with gzip.open(file_name, 'rb') as f:\n",
    "            labels = np.frombuffer(f.read(), np.uint8, offset=8)\n",
    "        return labels\n",
    "\n",
    "    def _create_dataset(self):\n",
    "        \"\"\"\n",
    "        Loads the MNIST dataset (both images and labels for training and testing) and saves it as a pickle file.\n",
    "        \"\"\"\n",
    "        self.dataset['train_images'] = self._load_images(os.path.join(self.dataset_dir, self.key_file['train_images']))\n",
    "        self.dataset['train_labels'] = self._load_labels(os.path.join(self.dataset_dir, self.key_file['train_labels']))\n",
    "        self.dataset['test_images'] = self._load_images(os.path.join(self.dataset_dir, self.key_file['test_images']))\n",
    "        self.dataset['test_labels'] = self._load_labels(os.path.join(self.dataset_dir, self.key_file['test_labels']))\n",
    "        with open(self.dataset_pkl_path, 'wb') as f:\n",
    "            print(f'Creating Pickle: {self.dataset_pkl_path}')\n",
    "            pickle.dump(self.dataset, f)\n",
    "            print('Done')\n",
    "\n",
    "    def _init_dataset(self):\n",
    "        \"\"\"\n",
    "        Initializes the dataset by downloading the required files, creating the dataset if needed, and loading\n",
    "        it from a pickle file if it exists.\n",
    "        \"\"\"\n",
    "        self._download_all()\n",
    "        if os.path.exists(self.dataset_pkl_path):\n",
    "            with open(self.dataset_pkl_path, 'rb') as f:\n",
    "                print(f'Pickle: {self.dataset_pkl_path} already exists.')\n",
    "                print('Loading...')\n",
    "                self.dataset = pickle.load(f)\n",
    "                print('Done.')\n",
    "        else:\n",
    "            self._create_dataset()\n",
    "\n",
    "    def load(self):\n",
    "        \"\"\"\n",
    "        Normalizes the image data (converting pixel values to the range [0, 1]) and converts the labels to one-hot\n",
    "        encoding.\n",
    "        \n",
    "        Returns:\n",
    "        --------\n",
    "        tuple:\n",
    "            Two tuples containing training data (images, labels) and test data (images, labels).\n",
    "        \"\"\"\n",
    "        for key in ('train_images', 'test_images'):\n",
    "            self.dataset[key] = self.dataset[key].astype(np.float32) / 255.0\n",
    "        for key in ('train_labels', 'test_labels'):\n",
    "            self.dataset[key] = self._change_one_hot_label(self.dataset[key], 10)\n",
    "        return (self.dataset['train_images'], self.dataset['train_labels']), \\\n",
    "               (self.dataset['test_images'], self.dataset['test_labels'])\n",
    "\n",
    "    def _change_one_hot_label(self, y, num_class):\n",
    "        \"\"\"\n",
    "        Converts a label vector into a one-hot encoded matrix.\n",
    "        \n",
    "        Parameters:\n",
    "        -----------\n",
    "        y : np.ndarray\n",
    "            A 1D array containing class labels.\n",
    "        num_class : int\n",
    "            The number of classes (e.g., 10 for MNIST).\n",
    "            \n",
    "        Returns:\n",
    "        --------\n",
    "        np.ndarray\n",
    "            A 2D array where each row is the one-hot encoded representation of the corresponding label.\n",
    "        \"\"\"\n",
    "        t = np.zeros((y.size, num_class))\n",
    "        for idx, row in enumerate(t):\n",
    "            row[y[idx]] = 1\n",
    "        return t\n"
   ]
  },
  {
   "cell_type": "code",
   "execution_count": 44,
   "metadata": {},
   "outputs": [
    {
     "name": "stdout",
     "output_type": "stream",
     "text": [
      "File: train-images-idx3-ubyte.gz already exists.\n",
      "File: train-labels-idx1-ubyte.gz already exists.\n",
      "File: t10k-images-idx3-ubyte.gz already exists.\n",
      "File: t10k-labels-idx1-ubyte.gz already exists.\n",
      "Pickle: dataset/mnist.pkl already exists.\n",
      "Loading...\n",
      "Done.\n"
     ]
    },
    {
     "data": {
      "image/png": "[encoded data removed]",
      "text/plain": [
       "<Figure size 640x480 with 1 Axes>"
      ]
     },
     "metadata": {},
     "output_type": "display_data"
    }
   ],
   "source": [
    "import matplotlib.pyplot as plt\n",
    "\n",
    "# Instantiate the MnistData class and load the data\n",
    "mnist_data = MnistData()\n",
    "(train_images, train_labels), (test_images, test_labels) = mnist_data.load()\n",
    "\n",
    "# Displaying one of the training images and its label\n",
    "plt.imshow(train_images[0].reshape(28, 28), cmap='gray')\n",
    "plt.title(f\"Label: {np.argmax(train_labels[0])}\")\n",
    "plt.show()\n"
   ]
  },
  {
   "cell_type": "code",
   "execution_count": 45,
   "metadata": {},
   "outputs": [
    {
     "name": "stdout",
     "output_type": "stream",
     "text": [
      "One-hot encoded label for 3: [[0. 0. 0. 1. 0. 0. 0. 0. 0. 0.]]\n"
     ]
    }
   ],
   "source": [
    "# Example: One-hot encode a label and display the result\n",
    "label_example = np.array([3])  # Example label\n",
    "one_hot_label = mnist_data._change_one_hot_label(label_example, 10)\n",
    "print(\"One-hot encoded label for 3:\", one_hot_label)\n"
   ]
  },
  {
   "cell_type": "code",
   "execution_count": 46,
   "metadata": {},
   "outputs": [
    {
     "name": "stdout",
     "output_type": "stream",
     "text": [
      "Label (one-hot): [[0. 0. 0. 0. 0. 0. 0. 0. 1. 0.]]\n",
      "Label: 8\n"
     ]
    },
    {
     "data": {
      "text/plain": [
       "<matplotlib.image.AxesImage at 0x7fdd30962aa0>"
      ]
     },
     "execution_count": 46,
     "metadata": {},
     "output_type": "execute_result"
    },
    {
     "data": {
      "image/png": "[encoded data removed]",
      "text/plain": [
       "<Figure size 640x480 with 1 Axes>"
      ]
     },
     "metadata": {},
     "output_type": "display_data"
    }
   ],
   "source": [
    "idx = np.random.randint(test_images.shape[0], size=1)\n",
    "print(f'Label (one-hot): {test_labels[idx]}')\n",
    "print(f'Label: {np.argmax(test_labels[idx])}')\n",
    "plt.imshow(test_images[idx].reshape(28,28))"
   ]
  },
  {
   "cell_type": "code",
   "execution_count": 47,
   "metadata": {},
   "outputs": [
    {
     "data": {
      "image/png": "[encoded data removed]",
      "text/plain": [
       "<Figure size 640x480 with 1 Axes>"
      ]
     },
     "metadata": {},
     "output_type": "display_data"
    },
    {
     "data": {
      "image/png": "[encoded data removed]",
      "text/plain": [
       "<Figure size 640x480 with 1 Axes>"
      ]
     },
     "metadata": {},
     "output_type": "display_data"
    },
    {
     "data": {
      "image/png": "[encoded data removed]",
      "text/plain": [
       "<Figure size 640x480 with 1 Axes>"
      ]
     },
     "metadata": {},
     "output_type": "display_data"
    },
    {
     "data": {
      "image/png": "[encoded data removed]",
      "text/plain": [
       "<Figure size 640x480 with 1 Axes>"
      ]
     },
     "metadata": {},
     "output_type": "display_data"
    }
   ],
   "source": [
    "# Display two examples from the training set\n",
    "for i in range(2):\n",
    "    plt.imshow(train_images[i].reshape(28, 28), cmap='gray')\n",
    "    plt.title(f\"Train Label: {np.argmax(train_labels[i])}\")\n",
    "    plt.show()\n",
    "\n",
    "# Display two examples from the test set\n",
    "for i in range(2):\n",
    "    plt.imshow(test_images[i].reshape(28, 28), cmap='gray')\n",
    "    plt.title(f\"Test Label: {np.argmax(test_labels[i])}\")\n",
    "    plt.show()\n"
   ]
  },
  {
   "cell_type": "code",
   "execution_count": null,
   "metadata": {},
   "outputs": [],
   "source": []
  },
  {
   "cell_type": "code",
   "execution_count": null,
   "metadata": {},
   "outputs": [],
   "source": []
  }
 ],
 "metadata": {
  "kernelspec": {
   "display_name": "ece5831-2024",
   "language": "python",
   "name": "python3"
  },
  "language_info": {
   "codemirror_mode": {
    "name": "ipython",
    "version": 3
   },
   "file_extension": ".py",
   "mimetype": "text/x-python",
   "name": "python",
   "nbconvert_exporter": "python",
   "pygments_lexer": "ipython3",
   "version": "3.10.14"
  }
 },
 "nbformat": 4,
 "nbformat_minor": 2
}
