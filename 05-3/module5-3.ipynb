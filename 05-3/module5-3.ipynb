{
 "cells": [
  {
   "cell_type": "markdown",
   "metadata": {},
   "source": [
    "### Importing necessary packages"
   ]
  },
  {
   "cell_type": "code",
   "execution_count": 19,
   "metadata": {},
   "outputs": [],
   "source": [
    "import numpy as np\n",
    "import cv2\n",
    "import pickle\n",
    "from mnist_data import MnistData\n",
    "import matplotlib.pyplot as plt"
   ]
  },
  {
   "cell_type": "markdown",
   "metadata": {},
   "source": [
    "### Importing the created mnist_data class and initializing the mnist class"
   ]
  },
  {
   "cell_type": "code",
   "execution_count": 20,
   "metadata": {},
   "outputs": [],
   "source": [
    "import mnist_data\n",
    "import numpy as np\n",
    "import pickle\n",
    "import cv2 \n",
    "\n",
    "class Mnist():\n",
    "    \"\"\" Creating <Mnist> class to load the MNIST dataset and predict the handwritten digits \"\"\"\n",
    "    def __init__(self):\n",
    "        \"\"\" Initialize the class by loading the MNIST dataset and the model parameters \"\"\"\n",
    "        self.data = mnist_data.MnistData()\n",
    "        self.params = {}\n",
    "\n",
    "\n",
    "    def sigmoid(self, x):\n",
    "        \"\"\" Sigmoid function as the activation function \"\"\"\n",
    "        return 1/(1 + np.exp(-x))\n",
    "\n",
    "\n",
    "    def softmax(self, a):\n",
    "        \"\"\" Softmax function as the output layer activation function \"\"\"\n",
    "        c = np.max(a)\n",
    "        exp_a = np.exp(a - c)\n",
    "        return exp_a/np.sum(exp_a)\n",
    "    \n",
    "\n",
    "    def load(self):\n",
    "        \"\"\" Load the MNIST dataset \"\"\"\n",
    "        (x_train, y_train), (x_test, y_test) = self.data.load()\n",
    "        return (x_train, y_train), (x_test, y_test)\n",
    "    \n",
    "    \n",
    "    def init_network(self):\n",
    "        \"\"\" Initialize the model parameters \"\"\"\n",
    "        with open('model/sample_weight.pkl', 'rb') as f:\n",
    "            self.params = pickle.load(f)\n",
    "\n",
    "    def load_handwritten_image(self, filename):\n",
    "        \"\"\" Load a handwritten image and resize it to 28x28 \"\"\"\n",
    "        img = cv2.imread(filename, cv2.IMREAD_GRAYSCALE)\n",
    "        img = cv2.resize(img, (28, 28))\n",
    "        img = img.astype(np.float32) / 255.0\n",
    "        img = img.flatten()  # Flatten the image to match MNIST data shape\n",
    "        return img\n",
    "    \n",
    "    def predict_image(self, filename):\n",
    "        \"\"\" Predict the handwritten digit in the image \"\"\"\n",
    "        x = self.load_handwritten_image(filename)\n",
    "        y = self.predict(x)\n",
    "        predicted_digit = np.argmax(y)  # Get the digit with the highest probability\n",
    "        return predicted_digit\n",
    "\n",
    "    def predict(self, x):\n",
    "        \"\"\" Predict the handwritten digit \"\"\"\n",
    "        w1, w2, w3 = self.params['W1'], self.params['W2'], self.params['W3']\n",
    "        b1, b2, b3 = self.params['b1'], self.params['b2'], self.params['b3']\n",
    "\n",
    "        a1 = np.dot(x, w1) + b1\n",
    "        z1 = self.sigmoid(a1)\n",
    "\n",
    "        a2 = np.dot(z1, w2) + b2\n",
    "        z2 = self.sigmoid(a2)\n",
    "\n",
    "        a3 = np.dot(z2, w3) + b3\n",
    "        y = self.softmax(a3)\n",
    "\n",
    "        return y    "
   ]
  },
  {
   "cell_type": "markdown",
   "metadata": {},
   "source": [
    "### Creating the object for Mnist class and testing the sigmoid function"
   ]
  },
  {
   "cell_type": "code",
   "execution_count": 21,
   "metadata": {},
   "outputs": [
    {
     "name": "stdout",
     "output_type": "stream",
     "text": [
      "File: train-images-idx3-ubyte.gz already exists.\n",
      "File: train-labels-idx1-ubyte.gz already exists.\n",
      "File: t10k-images-idx3-ubyte.gz already exists.\n",
      "File: t10k-labels-idx1-ubyte.gz already exists.\n",
      "Pickle: dataset/mnist.pkl already exists.\n",
      "Loading...\n",
      "Done.\n",
      "Sigmoid output: [0.73105858 0.26894142 0.5       ]\n"
     ]
    }
   ],
   "source": [
    "mnist = Mnist()\n",
    "sample_input = np.array([1.0, -1.0, 0.0])\n",
    "print(\"Sigmoid output:\", mnist.sigmoid(sample_input))"
   ]
  },
  {
   "cell_type": "markdown",
   "metadata": {},
   "source": [
    "### Testing the softma function"
   ]
  },
  {
   "cell_type": "code",
   "execution_count": 22,
   "metadata": {},
   "outputs": [
    {
     "name": "stdout",
     "output_type": "stream",
     "text": [
      "Softmax output: [0.01821127 0.24519181 0.73659691]\n"
     ]
    }
   ],
   "source": [
    "sample_input = np.array([0.3, 2.9, 4.0])\n",
    "print(\"Softmax output:\", mnist.softmax(sample_input))"
   ]
  },
  {
   "cell_type": "markdown",
   "metadata": {},
   "source": [
    "### Initializing the network"
   ]
  },
  {
   "cell_type": "code",
   "execution_count": 23,
   "metadata": {},
   "outputs": [
    {
     "name": "stdout",
     "output_type": "stream",
     "text": [
      "Model parameters loaded: True True True\n"
     ]
    }
   ],
   "source": [
    "mnist.init_network()\n",
    "print(\"Model parameters loaded:\", \"W1\" in mnist.params, \"W2\" in mnist.params, \"W3\" in mnist.params)"
   ]
  },
  {
   "cell_type": "markdown",
   "metadata": {},
   "source": [
    "### Checking the load_handwritten_images function"
   ]
  },
  {
   "cell_type": "code",
   "execution_count": 24,
   "metadata": {},
   "outputs": [
    {
     "name": "stdout",
     "output_type": "stream",
     "text": [
      "Loaded image shape: (784,)\n"
     ]
    },
    {
     "data": {
      "text/plain": [
       "<matplotlib.image.AxesImage at 0x2b992b2c2e0>"
      ]
     },
     "execution_count": 24,
     "metadata": {},
     "output_type": "execute_result"
    },
    {
     "data": {
      "image/png": "[encoded data removed]",
      "text/plain": [
       "<Figure size 432x288 with 1 Axes>"
      ]
     },
     "metadata": {},
     "output_type": "display_data"
    }
   ],
   "source": [
    "image = mnist.load_handwritten_image(\"3_0.png\")\n",
    "img = cv2.imread(\"3_0.png\", cv2.IMREAD_GRAYSCALE)\n",
    "print(\"Loaded image shape:\", image.shape)\n",
    "plt.imshow(img)  # Show first 10 values"
   ]
  },
  {
   "cell_type": "markdown",
   "metadata": {},
   "source": [
    "### Predicting the image"
   ]
  },
  {
   "cell_type": "code",
   "execution_count": 27,
   "metadata": {},
   "outputs": [
    {
     "name": "stdout",
     "output_type": "stream",
     "text": [
      "Predicted digit: 0\n"
     ]
    }
   ],
   "source": [
    "sample_input = \"0_0.png\"  # Use the first test image\n",
    "output_probs = mnist.predict_image(sample_input)\n",
    "print(\"Predicted digit:\", np.argmax(output_probs))"
   ]
  },
  {
   "cell_type": "markdown",
   "metadata": {},
   "source": [
    "### Checking for all the handwritten images"
   ]
  },
  {
   "cell_type": "code",
   "execution_count": 26,
   "metadata": {},
   "outputs": [
    {
     "name": "stdout",
     "output_type": "stream",
     "text": [
      "Testing 0_0.png...\n",
      "Pickle: dataset/mnist.pkl already exists.\n",
      "Loading...\n",
      "Done.\n",
      "Figure(640x480)\n",
      "Success: Image 0_0.png is for digit 0 and recognized as 0.\n",
      "Testing 0_1.png...\n",
      "Pickle: dataset/mnist.pkl already exists.\n",
      "Loading...\n",
      "Done.\n",
      "Figure(640x480)\n",
      "Success: Image 0_1.png is for digit 0 and recognized as 0.\n",
      "Testing 0_2.png...\n",
      "Pickle: dataset/mnist.pkl already exists.\n",
      "Loading...\n",
      "Done.\n",
      "Figure(640x480)\n",
      "Fail: Image 0_2.png is for digit 0 but the original result is 3.\n",
      "Testing 0_3.png...\n",
      "Pickle: dataset/mnist.pkl already exists.\n",
      "Loading...\n",
      "Done.\n",
      "Figure(640x480)\n",
      "Success: Image 0_3.png is for digit 0 and recognized as 0.\n",
      "Testing 0_4.png...\n",
      "Pickle: dataset/mnist.pkl already exists.\n",
      "Loading...\n",
      "Done.\n",
      "Figure(640x480)\n",
      "Success: Image 0_4.png is for digit 0 and recognized as 0.\n",
      "Testing 1_0.png...\n",
      "Pickle: dataset/mnist.pkl already exists.\n",
      "Loading...\n",
      "Done.\n",
      "Figure(640x480)\n",
      "Success: Image 1_0.png is for digit 1 and recognized as 1.\n",
      "Testing 1_1.png...\n",
      "Pickle: dataset/mnist.pkl already exists.\n",
      "Loading...\n",
      "Done.\n",
      "Figure(640x480)\n",
      "Success: Image 1_1.png is for digit 1 and recognized as 1.\n",
      "Testing 1_2.png...\n",
      "Pickle: dataset/mnist.pkl already exists.\n",
      "Loading...\n",
      "Done.\n",
      "Figure(640x480)\n",
      "Success: Image 1_2.png is for digit 1 and recognized as 1.\n",
      "Testing 1_3.png...\n",
      "Pickle: dataset/mnist.pkl already exists.\n",
      "Loading...\n",
      "Done.\n",
      "Figure(640x480)\n",
      "Success: Image 1_3.png is for digit 1 and recognized as 1.\n",
      "Testing 1_4.png...\n",
      "Pickle: dataset/mnist.pkl already exists.\n",
      "Loading...\n",
      "Done.\n",
      "Figure(640x480)\n",
      "Success: Image 1_4.png is for digit 1 and recognized as 1.\n",
      "Testing 2_0.png...\n",
      "Pickle: dataset/mnist.pkl already exists.\n",
      "Loading...\n",
      "Done.\n",
      "Figure(640x480)\n",
      "Success: Image 2_0.png is for digit 2 and recognized as 2.\n",
      "Testing 2_1.png...\n",
      "Pickle: dataset/mnist.pkl already exists.\n",
      "Loading...\n",
      "Done.\n",
      "Figure(640x480)\n",
      "Fail: Image 2_1.png is for digit 2 but the original result is 8.\n",
      "Testing 2_2.png...\n",
      "Pickle: dataset/mnist.pkl already exists.\n",
      "Loading...\n",
      "Done.\n",
      "Figure(640x480)\n",
      "Success: Image 2_2.png is for digit 2 and recognized as 2.\n",
      "Testing 2_3.png...\n",
      "Pickle: dataset/mnist.pkl already exists.\n",
      "Loading...\n",
      "Done.\n",
      "Figure(640x480)\n",
      "Success: Image 2_3.png is for digit 2 and recognized as 2.\n",
      "Testing 2_4.png...\n",
      "Pickle: dataset/mnist.pkl already exists.\n",
      "Loading...\n",
      "Done.\n",
      "Figure(640x480)\n",
      "Success: Image 2_4.png is for digit 2 and recognized as 2.\n",
      "Testing 3_0.png...\n",
      "Pickle: dataset/mnist.pkl already exists.\n",
      "Loading...\n",
      "Done.\n",
      "Figure(640x480)\n",
      "Success: Image 3_0.png is for digit 3 and recognized as 3.\n",
      "Testing 3_1.png...\n",
      "Pickle: dataset/mnist.pkl already exists.\n",
      "Loading...\n",
      "Done.\n",
      "Figure(640x480)\n",
      "Success: Image 3_1.png is for digit 3 and recognized as 3.\n",
      "Testing 3_2.png...\n",
      "Pickle: dataset/mnist.pkl already exists.\n",
      "Loading...\n",
      "Done.\n",
      "Figure(640x480)\n",
      "Success: Image 3_2.png is for digit 3 and recognized as 3.\n",
      "Testing 3_3.png...\n",
      "Pickle: dataset/mnist.pkl already exists.\n",
      "Loading...\n",
      "Done.\n",
      "Figure(640x480)\n",
      "Success: Image 3_3.png is for digit 3 and recognized as 3.\n",
      "Testing 3_4.png...\n",
      "Pickle: dataset/mnist.pkl already exists.\n",
      "Loading...\n",
      "Done.\n",
      "Figure(640x480)\n",
      "Success: Image 3_4.png is for digit 3 and recognized as 3.\n",
      "Testing 4_0.png...\n",
      "Pickle: dataset/mnist.pkl already exists.\n",
      "Loading...\n",
      "Done.\n",
      "Figure(640x480)\n",
      "Success: Image 4_0.png is for digit 4 and recognized as 4.\n",
      "Testing 4_1.png...\n",
      "Pickle: dataset/mnist.pkl already exists.\n",
      "Loading...\n",
      "Done.\n",
      "Figure(640x480)\n",
      "Success: Image 4_1.png is for digit 4 and recognized as 4.\n",
      "Testing 4_2.png...\n",
      "Pickle: dataset/mnist.pkl already exists.\n",
      "Loading...\n",
      "Done.\n",
      "Figure(640x480)\n",
      "Fail: Image 4_2.png is for digit 4 but the original result is 9.\n",
      "Testing 4_3.png...\n",
      "Pickle: dataset/mnist.pkl already exists.\n",
      "Loading...\n",
      "Done.\n",
      "Figure(640x480)\n",
      "Fail: Image 4_3.png is for digit 4 but the original result is 9.\n",
      "Testing 4_4.png...\n",
      "Pickle: dataset/mnist.pkl already exists.\n",
      "Loading...\n",
      "Done.\n",
      "Figure(640x480)\n",
      "Success: Image 4_4.png is for digit 4 and recognized as 4.\n",
      "Testing 5_0.png...\n",
      "Pickle: dataset/mnist.pkl already exists.\n",
      "Loading...\n",
      "Done.\n",
      "Figure(640x480)\n",
      "Success: Image 5_0.png is for digit 5 and recognized as 5.\n",
      "Testing 5_1.png...\n",
      "Pickle: dataset/mnist.pkl already exists.\n",
      "Loading...\n",
      "Done.\n",
      "Figure(640x480)\n",
      "Success: Image 5_1.png is for digit 5 and recognized as 5.\n",
      "Testing 5_2.png...\n",
      "Pickle: dataset/mnist.pkl already exists.\n",
      "Loading...\n",
      "Done.\n",
      "Figure(640x480)\n",
      "Success: Image 5_2.png is for digit 5 and recognized as 5.\n",
      "Testing 5_3.png...\n",
      "Pickle: dataset/mnist.pkl already exists.\n",
      "Loading...\n",
      "Done.\n",
      "Figure(640x480)\n",
      "Fail: Image 5_3.png is for digit 5 but the original result is 3.\n",
      "Testing 5_4.png...\n",
      "Pickle: dataset/mnist.pkl already exists.\n",
      "Loading...\n",
      "Done.\n",
      "Figure(640x480)\n",
      "Success: Image 5_4.png is for digit 5 and recognized as 5.\n",
      "Testing 6_0.png...\n",
      "Pickle: dataset/mnist.pkl already exists.\n",
      "Loading...\n",
      "Done.\n",
      "Figure(640x480)\n",
      "Fail: Image 6_0.png is for digit 6 but the original result is 5.\n",
      "Testing 6_1.png...\n",
      "Pickle: dataset/mnist.pkl already exists.\n",
      "Loading...\n",
      "Done.\n",
      "Figure(640x480)\n",
      "Fail: Image 6_1.png is for digit 6 but the original result is 5.\n",
      "Testing 6_2.png...\n",
      "Pickle: dataset/mnist.pkl already exists.\n",
      "Loading...\n",
      "Done.\n",
      "Figure(640x480)\n",
      "Success: Image 6_2.png is for digit 6 and recognized as 6.\n",
      "Testing 6_3.png...\n",
      "Pickle: dataset/mnist.pkl already exists.\n",
      "Loading...\n",
      "Done.\n",
      "Figure(640x480)\n",
      "Success: Image 6_3.png is for digit 6 and recognized as 6.\n",
      "Testing 6_4.png...\n",
      "Pickle: dataset/mnist.pkl already exists.\n",
      "Loading...\n",
      "Done.\n",
      "Figure(640x480)\n",
      "Success: Image 6_4.png is for digit 6 and recognized as 6.\n",
      "Testing 7_0.png...\n",
      "Pickle: dataset/mnist.pkl already exists.\n",
      "Loading...\n",
      "Done.\n",
      "Figure(640x480)\n",
      "Fail: Image 7_0.png is for digit 7 but the original result is 3.\n",
      "Testing 7_1.png...\n",
      "Pickle: dataset/mnist.pkl already exists.\n",
      "Loading...\n",
      "Done.\n",
      "Figure(640x480)\n",
      "Fail: Image 7_1.png is for digit 7 but the original result is 3.\n",
      "Testing 7_2.png...\n",
      "Pickle: dataset/mnist.pkl already exists.\n",
      "Loading...\n",
      "Done.\n",
      "Figure(640x480)\n",
      "Fail: Image 7_2.png is for digit 7 but the original result is 3.\n",
      "Testing 7_3.png...\n",
      "Pickle: dataset/mnist.pkl already exists.\n",
      "Loading...\n",
      "Done.\n",
      "Figure(640x480)\n",
      "Fail: Image 7_3.png is for digit 7 but the original result is 3.\n",
      "Testing 7_4.png...\n",
      "Pickle: dataset/mnist.pkl already exists.\n",
      "Loading...\n",
      "Done.\n",
      "Figure(640x480)\n",
      "Fail: Image 7_4.png is for digit 7 but the original result is 3.\n",
      "Testing 8_0.png...\n",
      "Pickle: dataset/mnist.pkl already exists.\n",
      "Loading...\n",
      "Done.\n",
      "Figure(640x480)\n",
      "Success: Image 8_0.png is for digit 8 and recognized as 8.\n",
      "Testing 8_1.png...\n",
      "Pickle: dataset/mnist.pkl already exists.\n",
      "Loading...\n",
      "Done.\n",
      "Figure(640x480)\n",
      "Fail: Image 8_1.png is for digit 8 but the original result is 3.\n",
      "Testing 8_2.png...\n",
      "Pickle: dataset/mnist.pkl already exists.\n",
      "Loading...\n",
      "Done.\n",
      "Figure(640x480)\n",
      "Fail: Image 8_2.png is for digit 8 but the original result is 2.\n",
      "Testing 8_3.png...\n",
      "Pickle: dataset/mnist.pkl already exists.\n",
      "Loading...\n",
      "Done.\n",
      "Figure(640x480)\n",
      "Testing 8_4.png...Success: Image 8_3.png is for digit 8 and recognized as 8.\n",
      "\n",
      "Pickle: dataset/mnist.pkl already exists.\n",
      "Loading...\n",
      "Done.\n",
      "Figure(640x480)\n",
      "Success: Image 8_4.png is for digit 8 and recognized as 8.\n",
      "Testing 9_0.png...\n",
      "Pickle: dataset/mnist.pkl already exists.\n",
      "Loading...\n",
      "Done.\n",
      "Figure(640x480)\n",
      "Fail: Image 9_0.png is for digit 9 but the original result is 3.\n",
      "Testing 9_1.png...\n",
      "Pickle: dataset/mnist.pkl already exists.\n",
      "Loading...\n",
      "Done.\n",
      "Figure(640x480)\n",
      "Fail: Image 9_1.png is for digit 9 but the original result is 3.\n",
      "Testing 9_2.png...\n",
      "Pickle: dataset/mnist.pkl already exists.\n",
      "Loading...\n",
      "Done.\n",
      "Figure(640x480)\n",
      "Fail: Image 9_2.png is for digit 9 but the original result is 7.\n",
      "Testing 9_3.png...\n",
      "Pickle: dataset/mnist.pkl already exists.\n",
      "Loading...\n",
      "Done.\n",
      "Figure(640x480)\n",
      "Fail: Image 9_3.png is for digit 9 but the original result is 4.\n",
      "Testing 9_4.png...\n",
      "Pickle: dataset/mnist.pkl already exists.\n",
      "Loading...\n",
      "Done.\n",
      "Figure(640x480)\n",
      "Fail: Image 9_4.png is for digit 9 but the original result is 3.\n"
     ]
    }
   ],
   "source": [
    "import os\n",
    "\n",
    "# Directory with images \n",
    "image_dir = \"./\"\n",
    "\n",
    "# Loop to test each handwritten digit image\n",
    "for digit in range(10):\n",
    "    for index in range(5):  # since there are five images per digit\n",
    "        filename = f\"{digit}_{index}.png\"\n",
    "        filepath = os.path.join(image_dir, filename)\n",
    "        if os.path.exists(filepath):\n",
    "            print(f\"Testing {filename}...\")\n",
    "            # Running the Python script with image filename and correct digit as arguments\n",
    "            !python module5-3.py {filename} {digit}\n",
    "        else:\n",
    "            print(f\"{filename} not found.\")"
   ]
  },
  {
   "cell_type": "code",
   "execution_count": null,
   "metadata": {},
   "outputs": [],
   "source": []
  }
 ],
 "metadata": {
  "kernelspec": {
   "display_name": "base",
   "language": "python",
   "name": "python3"
  },
  "language_info": {
   "codemirror_mode": {
    "name": "ipython",
    "version": 3
   },
   "file_extension": ".py",
   "mimetype": "text/x-python",
   "name": "python",
   "nbconvert_exporter": "python",
   "pygments_lexer": "ipython3",
   "version": "3.9.12"
  }
 },
 "nbformat": 4,
 "nbformat_minor": 2
}
